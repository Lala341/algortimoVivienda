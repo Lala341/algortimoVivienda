{
 "cells": [
  {
   "cell_type": "code",
   "execution_count": 21,
   "metadata": {},
   "outputs": [],
   "source": [
    "import numpy as np\n",
    "import pandas as pd\n",
    "import seaborn as sns\n",
    "\n",
    "\n",
    "test = pd.read_csv(\"test_data.csv\")\n",
    "train = pd.read_csv(\"train_data.csv\")\n"
   ]
  },
  {
   "cell_type": "code",
   "execution_count": 276,
   "metadata": {},
   "outputs": [
    {
     "data": {
      "text/html": "<div>\n<style scoped>\n    .dataframe tbody tr th:only-of-type {\n        vertical-align: middle;\n    }\n\n    .dataframe tbody tr th {\n        vertical-align: top;\n    }\n\n    .dataframe thead th {\n        text-align: right;\n    }\n</style>\n<table border=\"1\" class=\"dataframe\">\n  <thead>\n    <tr style=\"text-align: right;\">\n      <th></th>\n      <th>id</th>\n      <th>area</th>\n      <th>ascensor</th>\n      <th>balcon</th>\n      <th>banos</th>\n      <th>banoservicio</th>\n      <th>conjuntocerrado</th>\n      <th>cuartoservicio</th>\n      <th>deposito</th>\n      <th>estrato</th>\n      <th>...</th>\n      <th>latitud</th>\n      <th>longitud</th>\n      <th>barrio</th>\n      <th>upz</th>\n      <th>localidad</th>\n      <th>avaluotercatastral</th>\n      <th>avaluotercomercial</th>\n      <th>valorref</th>\n      <th>uso</th>\n      <th>predial</th>\n    </tr>\n  </thead>\n  <tbody>\n    <tr>\n      <th>48</th>\n      <td>726088</td>\n      <td>230.0</td>\n      <td>NaN</td>\n      <td>NaN</td>\n      <td>4.0</td>\n      <td>NaN</td>\n      <td>0</td>\n      <td>1.0</td>\n      <td>NaN</td>\n      <td>4.0</td>\n      <td>...</td>\n      <td>4.737032</td>\n      <td>-74.038290</td>\n      <td>Las Orquídeas</td>\n      <td>UPZ Toberín</td>\n      <td>Localidad Usaquén</td>\n      <td>1226105.0</td>\n      <td>2400000.0</td>\n      <td>2400000.0</td>\n      <td>RESIDENCIAL</td>\n      <td>9899.337826</td>\n    </tr>\n    <tr>\n      <th>49</th>\n      <td>752156</td>\n      <td>230.0</td>\n      <td>NaN</td>\n      <td>NaN</td>\n      <td>4.0</td>\n      <td>NaN</td>\n      <td>0</td>\n      <td>1.0</td>\n      <td>NaN</td>\n      <td>4.0</td>\n      <td>...</td>\n      <td>4.735844</td>\n      <td>-74.038440</td>\n      <td>Las Orquídeas</td>\n      <td>UPZ Toberín</td>\n      <td>Localidad Usaquén</td>\n      <td>737917.0</td>\n      <td>1393036.0</td>\n      <td>2400000.0</td>\n      <td>RESIDENCIAL</td>\n      <td>9899.337826</td>\n    </tr>\n    <tr>\n      <th>50</th>\n      <td>1055205</td>\n      <td>230.0</td>\n      <td>NaN</td>\n      <td>NaN</td>\n      <td>4.0</td>\n      <td>NaN</td>\n      <td>0</td>\n      <td>1.0</td>\n      <td>NaN</td>\n      <td>4.0</td>\n      <td>...</td>\n      <td>4.736058</td>\n      <td>-74.040634</td>\n      <td>Villa Magdala</td>\n      <td>UPZ Toberín</td>\n      <td>Localidad Usaquén</td>\n      <td>737917.0</td>\n      <td>1628470.0</td>\n      <td>2400000.0</td>\n      <td>RESIDENCIAL</td>\n      <td>10930.486477</td>\n    </tr>\n    <tr>\n      <th>51</th>\n      <td>1289402</td>\n      <td>230.0</td>\n      <td>NaN</td>\n      <td>NaN</td>\n      <td>4.0</td>\n      <td>NaN</td>\n      <td>0</td>\n      <td>1.0</td>\n      <td>NaN</td>\n      <td>4.0</td>\n      <td>...</td>\n      <td>4.737620</td>\n      <td>-74.040190</td>\n      <td>Las Orquídeas</td>\n      <td>UPZ Toberín</td>\n      <td>Localidad Usaquén</td>\n      <td>2019245.0</td>\n      <td>2400000.0</td>\n      <td>2400000.0</td>\n      <td>RESIDENCIAL</td>\n      <td>10930.486477</td>\n    </tr>\n    <tr>\n      <th>52</th>\n      <td>372796</td>\n      <td>230.0</td>\n      <td>NaN</td>\n      <td>NaN</td>\n      <td>4.0</td>\n      <td>NaN</td>\n      <td>0</td>\n      <td>1.0</td>\n      <td>NaN</td>\n      <td>5.0</td>\n      <td>...</td>\n      <td>4.702654</td>\n      <td>-74.058466</td>\n      <td>La Alhambra</td>\n      <td>UPZ La Alhambra</td>\n      <td>Localidad Suba</td>\n      <td>2099500.0</td>\n      <td>2470000.0</td>\n      <td>2500000.0</td>\n      <td>RESIDENCIAL</td>\n      <td>15761.230144</td>\n    </tr>\n  </tbody>\n</table>\n<p>5 rows × 40 columns</p>\n</div>",
      "text/plain": "         id   area  ascensor  balcon  banos  banoservicio  conjuntocerrado  \\\n48   726088  230.0       NaN     NaN    4.0           NaN                0   \n49   752156  230.0       NaN     NaN    4.0           NaN                0   \n50  1055205  230.0       NaN     NaN    4.0           NaN                0   \n51  1289402  230.0       NaN     NaN    4.0           NaN                0   \n52   372796  230.0       NaN     NaN    4.0           NaN                0   \n\n    cuartoservicio  deposito  estrato  ...   latitud   longitud  \\\n48             1.0       NaN      4.0  ...  4.737032 -74.038290   \n49             1.0       NaN      4.0  ...  4.735844 -74.038440   \n50             1.0       NaN      4.0  ...  4.736058 -74.040634   \n51             1.0       NaN      4.0  ...  4.737620 -74.040190   \n52             1.0       NaN      5.0  ...  4.702654 -74.058466   \n\n           barrio              upz          localidad  avaluotercatastral  \\\n48  Las Orquídeas      UPZ Toberín  Localidad Usaquén           1226105.0   \n49  Las Orquídeas      UPZ Toberín  Localidad Usaquén            737917.0   \n50  Villa Magdala      UPZ Toberín  Localidad Usaquén            737917.0   \n51  Las Orquídeas      UPZ Toberín  Localidad Usaquén           2019245.0   \n52    La Alhambra  UPZ La Alhambra     Localidad Suba           2099500.0   \n\n    avaluotercomercial   valorref          uso       predial  \n48           2400000.0  2400000.0  RESIDENCIAL   9899.337826  \n49           1393036.0  2400000.0  RESIDENCIAL   9899.337826  \n50           1628470.0  2400000.0  RESIDENCIAL  10930.486477  \n51           2400000.0  2400000.0  RESIDENCIAL  10930.486477  \n52           2470000.0  2500000.0  RESIDENCIAL  15761.230144  \n\n[5 rows x 40 columns]"
     },
     "execution_count": 276,
     "metadata": {},
     "output_type": "execute_result"
    }
   ],
   "source": [
    "test.tail()"
   ]
  },
  {
   "cell_type": "code",
   "execution_count": 23,
   "metadata": {},
   "outputs": [
    {
     "data": {
      "text/plain": "Index(['id', 'area', 'ascensor', 'balcon', 'banos', 'banoservicio',\n       'conjuntocerrado', 'cuartoservicio', 'deposito', 'estrato', 'estudio',\n       'garajes', 'gimnasio', 'habitaciones', 'halldealcobas',\n       'parqueaderovisitantes', 'piscina', 'piso', 'porteria', 'remodelado',\n       'saloncomunal', 'terraza', 'tiempodeconstruido', 'vigilancia', 'vista',\n       'zonalavanderia', 'valoradministracion', 'valorventa', 'tipoinmueble',\n       'tiponegocio', 'latitud', 'longitud'],\n      dtype='object')"
     },
     "execution_count": 23,
     "metadata": {},
     "output_type": "execute_result"
    }
   ],
   "source": [
    "test.columns"
   ]
  },
  {
   "cell_type": "code",
   "execution_count": 4,
   "metadata": {},
   "outputs": [
    {
     "data": {
      "text/plain": "53"
     },
     "execution_count": 4,
     "metadata": {},
     "output_type": "execute_result"
    }
   ],
   "source": [
    "len(test)"
   ]
  },
  {
   "cell_type": "code",
   "execution_count": 44,
   "metadata": {},
   "outputs": [],
   "source": [
    "from geopy.geocoders import Nominatim\n",
    "import time\n",
    "import random\n",
    "\n",
    "def getReverse(lat, lon):\n",
    "    geolocator=Nominatim(user_agent=\"app_algo1234567801\")\n",
    "    time.sleep(1)\n",
    "    location= geolocator.reverse(str(lat)+\",\"+str(lon))\n",
    "    return location.raw"
   ]
  },
  {
   "cell_type": "code",
   "execution_count": 25,
   "metadata": {},
   "outputs": [],
   "source": [
    "def getAVALUO_CAT_MZ(lat,lon):\n",
    "\n",
    "    urli=\"https://serviciosgis.catastrobogota.gov.co/arcgis/rest/services/catastro/avaluoscatastrales/MapServer/0/query?where=&text=&objectIds=&time=1609477200&geometry=%7B%22x%22+%3A+\"+str(lon)+\"%2C+%22y%22+%3A+\"+str(lat)+\"%2C+%22spatialReference%22+%3A+%7B%22wkid%22+%3A+4326%7D%7D&geometryType=esriGeometryPoint&inSR=&spatialRel=esriSpatialRelContains&distance=50&units=esriSRUnit_Meter&relationParam=&outFields=*&returnGeometry=false&returnTrueCurves=false&maxAllowableOffset=&geometryPrecision=3&outSR=&havingClause=&returnIdsOnly=false&returnCountOnly=false&orderByFields=AVALUO_CAT_MZ&groupByFieldsForStatistics=MANZANA_ID&outStatistics=&returnZ=false&returnM=false&gdbVersion=&historicMoment=&returnDistinctValues=false&resultOffset=&resultRecordCount=&returnExtentOnly=false&datumTransformation=&parameterValues=&rangeValues=&quantizationParameters=&featureEncoding=esriDefault&f=pjson\"\n",
    "    import urllib.request, json \n",
    "    with urllib.request.urlopen(urli) as url:\n",
    "        js = json.loads(url.read().decode())\n",
    "    ind=1\n",
    "    while(len(js[\"features\"])==0):\n",
    "        urli=\"https://serviciosgis.catastrobogota.gov.co/arcgis/rest/services/catastro/avaluoscatastrales/MapServer/0/query?where=&text=&objectIds=&time=1609477200&geometry=%7B%22x%22+%3A+\"+str(lon)+\"%2C+%22y%22+%3A+\"+str(lat)+\"%2C+%22spatialReference%22+%3A+%7B%22wkid%22+%3A+4326%7D%7D&geometryType=esriGeometryPoint&inSR=&spatialRel=esriSpatialRelContains&distance=\"+str(100*ind)+\"&units=esriSRUnit_Meter&relationParam=&outFields=*&returnGeometry=false&returnTrueCurves=false&maxAllowableOffset=&geometryPrecision=3&outSR=&havingClause=&returnIdsOnly=false&returnCountOnly=false&orderByFields=AVALUO_CAT_MZ&groupByFieldsForStatistics=MANZANA_ID&outStatistics=&returnZ=false&returnM=false&gdbVersion=&historicMoment=&returnDistinctValues=false&resultOffset=&resultRecordCount=&returnExtentOnly=false&datumTransformation=&parameterValues=&rangeValues=&quantizationParameters=&featureEncoding=esriDefault&f=pjson\"\n",
    "    \n",
    "        import urllib.request, json \n",
    "        with urllib.request.urlopen(urli) as url:\n",
    "            js = json.loads(url.read().decode())\n",
    "        ind=ind+1\n",
    "    return js[\"features\"][0]\n",
    "\n",
    "def getAVALUO_CAT_MZ_I(lat,lon):\n",
    "\n",
    "    urli=\"https://serviciosgis.catastrobogota.gov.co/arcgis/rest/services/catastro/avaluoscatastrales/MapServer/1/query?where=&text=&objectIds=&time=&geometry=%7B%22x%22+%3A+\"+str(lon)+\"%2C+%22y%22+%3A+\"+str(lat)+\"%2C+%22spatialReference%22+%3A+%7B%22wkid%22+%3A+4326%7D%7D&geometryType=esriGeometryPoint&inSR=&spatialRel=esriSpatialRelContains&distance=50&units=esriSRUnit_Meter&relationParam=&outFields=*&returnGeometry=false&returnTrueCurves=false&maxAllowableOffset=&geometryPrecision=3&outSR=&havingClause=&returnIdsOnly=false&returnCountOnly=false&orderByFields=&groupByFieldsForStatistics=&outStatistics=&returnZ=false&returnM=false&gdbVersion=&historicMoment=&returnDistinctValues=false&resultOffset=&resultRecordCount=&returnExtentOnly=false&datumTransformation=&parameterValues=&rangeValues=&quantizationParameters=&featureEncoding=esriDefault&f=pjson\"\n",
    "    import urllib.request, json \n",
    "    with urllib.request.urlopen(urli) as url:\n",
    "        js = json.loads(url.read().decode())\n",
    "    ind=1\n",
    "    while(len(js[\"features\"])==0):\n",
    "        urli=\"https://serviciosgis.catastrobogota.gov.co/arcgis/rest/services/catastro/avaluoscatastrales/MapServer/1/query?where=&text=&objectIds=&time=&geometry=%7B%22x%22+%3A+\"+str(lon)+\"%2C+%22y%22+%3A+\"+str(lat)+\"%2C+%22spatialReference%22+%3A+%7B%22wkid%22+%3A+4326%7D%7D&geometryType=esriGeometryPoint&inSR=&spatialRel=esriSpatialRelContains&distance=\"+str(100*ind)+\"&units=esriSRUnit_Meter&relationParam=&outFields=*&returnGeometry=false&returnTrueCurves=false&maxAllowableOffset=&geometryPrecision=3&outSR=&havingClause=&returnIdsOnly=false&returnCountOnly=false&orderByFields=&groupByFieldsForStatistics=&outStatistics=&returnZ=false&returnM=false&gdbVersion=&historicMoment=&returnDistinctValues=false&resultOffset=&resultRecordCount=&returnExtentOnly=false&datumTransformation=&parameterValues=&rangeValues=&quantizationParameters=&featureEncoding=esriDefault&f=pjson\"\n",
    "    \n",
    "        import urllib.request, json \n",
    "        with urllib.request.urlopen(urli) as url:\n",
    "            js = json.loads(url.read().decode())\n",
    "        ind=ind+1\n",
    "    return js[\"features\"][0]\n",
    "def getAVALUO_COM_MZ(lat,lon):\n",
    "\n",
    "    urli=\"https://serviciosgis.catastrobogota.gov.co/arcgis/rest/services/catastro/avaluoscomerciales/MapServer/0/query?where=&text=&objectIds=&time=1609477200&geometry=%7B%22x%22+%3A+\"+str(lon)+\"%2C+%22y%22+%3A+\"+str(lat)+\"%2C+%22spatialReference%22+%3A+%7B%22wkid%22+%3A+4326%7D%7D&geometryType=esriGeometryPoint&inSR=&spatialRel=esriSpatialRelContains&distance=50&units=esriSRUnit_Meter&relationParam=&outFields=*&returnGeometry=false&returnTrueCurves=false&maxAllowableOffset=&geometryPrecision=3&outSR=&havingClause=&returnIdsOnly=false&returnCountOnly=false&orderByFields=&groupByFieldsForStatistics=&outStatistics=&returnZ=false&returnM=false&gdbVersion=&historicMoment=&returnDistinctValues=false&resultOffset=&resultRecordCount=&returnExtentOnly=false&datumTransformation=&parameterValues=&rangeValues=&quantizationParameters=&featureEncoding=esriDefault&f=pjson\"\n",
    "    import urllib.request, json \n",
    "    with urllib.request.urlopen(urli) as url:\n",
    "        js = json.loads(url.read().decode())\n",
    "    ind=1\n",
    "    while(len(js[\"features\"])==0):\n",
    "        urli=\"https://serviciosgis.catastrobogota.gov.co/arcgis/rest/services/catastro/avaluoscomerciales/MapServer/0/query?where=&text=&objectIds=&time=1609477200&geometry=%7B%22x%22+%3A+\"+str(lon)+\"%2C+%22y%22+%3A+\"+str(lat)+\"%2C+%22spatialReference%22+%3A+%7B%22wkid%22+%3A+4326%7D%7D&geometryType=esriGeometryPoint&inSR=&spatialRel=esriSpatialRelContains&distance=\"+str(100*ind)+\"&units=esriSRUnit_Meter&relationParam=&outFields=*&returnGeometry=false&returnTrueCurves=false&maxAllowableOffset=&geometryPrecision=3&outSR=&havingClause=&returnIdsOnly=false&returnCountOnly=false&orderByFields=&groupByFieldsForStatistics=&outStatistics=&returnZ=false&returnM=false&gdbVersion=&historicMoment=&returnDistinctValues=false&resultOffset=&resultRecordCount=&returnExtentOnly=false&datumTransformation=&parameterValues=&rangeValues=&quantizationParameters=&featureEncoding=esriDefault&f=pjson\"\n",
    "    \n",
    "        import urllib.request, json \n",
    "        with urllib.request.urlopen(urli) as url:\n",
    "            js = json.loads(url.read().decode())\n",
    "        ind=ind+1\n",
    "    return js[\"features\"][0]\n",
    "def getVALOR_REF_2020(lat,lon):\n",
    "\n",
    "    urli=\"https://serviciosgis.catastrobogota.gov.co/arcgis/rest/services/catastro/valorreferencia/MapServer/9/query?where=&text=&objectIds=&time=&geometry=%7B%22x%22+%3A+\"+str(lon)+\"%2C+%22y%22+%3A+\"+str(lat)+\"%2C+%22spatialReference%22+%3A+%7B%22wkid%22+%3A+4326%7D%7D&geometryType=esriGeometryPoint&inSR=&spatialRel=esriSpatialRelContains&distance=50&units=esriSRUnit_Meter&relationParam=&outFields=*&returnGeometry=false&returnTrueCurves=false&maxAllowableOffset=&geometryPrecision=&outSR=&havingClause=&returnIdsOnly=false&returnCountOnly=false&orderByFields=&groupByFieldsForStatistics=&outStatistics=&returnZ=false&returnM=false&gdbVersion=&historicMoment=&returnDistinctValues=false&resultOffset=&resultRecordCount=&returnExtentOnly=false&datumTransformation=&parameterValues=&rangeValues=&quantizationParameters=&featureEncoding=esriDefault&f=pjson\"\n",
    "    import urllib.request, json \n",
    "    with urllib.request.urlopen(urli) as url:\n",
    "        js = json.loads(url.read().decode())\n",
    "    ind=1\n",
    "    while(len(js[\"features\"])==0):\n",
    "        urli=\"https://serviciosgis.catastrobogota.gov.co/arcgis/rest/services/catastro/valorreferencia/MapServer/9/query?where=&text=&objectIds=&time=&geometry=%7B%22x%22+%3A+\"+str(lon)+\"%2C+%22y%22+%3A+\"+str(lat)+\"%2C+%22spatialReference%22+%3A+%7B%22wkid%22+%3A+4326%7D%7D&geometryType=esriGeometryPoint&inSR=&spatialRel=esriSpatialRelContains&distance=\"+str(100*ind)+\"&units=esriSRUnit_Meter&relationParam=&outFields=*&returnGeometry=false&returnTrueCurves=false&maxAllowableOffset=&geometryPrecision=&outSR=&havingClause=&returnIdsOnly=false&returnCountOnly=false&orderByFields=&groupByFieldsForStatistics=&outStatistics=&returnZ=false&returnM=false&gdbVersion=&historicMoment=&returnDistinctValues=false&resultOffset=&resultRecordCount=&returnExtentOnly=false&datumTransformation=&parameterValues=&rangeValues=&quantizationParameters=&featureEncoding=esriDefault&f=pjson\"\n",
    "    \n",
    "        import urllib.request, json \n",
    "        with urllib.request.urlopen(urli) as url:\n",
    "            js = json.loads(url.read().decode())\n",
    "        ind=ind+1\n",
    "    return js[\"features\"][0]\n",
    "\n",
    "\n",
    "\n",
    "def getUSO(lat,lon):\n",
    "\n",
    "    urli=\"https://serviciosgis.catastrobogota.gov.co/arcgis/rest/services/catastro/usopredominante/MapServer/9/query?where=&text=&objectIds=&time=1609477200&geometry=%7B%22x%22+%3A+\"+str(lon)+\"%2C+%22y%22+%3A+\"+str(lat)+\"%2C+%22spatialReference%22+%3A+%7B%22wkid%22+%3A+4326%7D%7D&geometryType=esriGeometryPoint&inSR=&spatialRel=esriSpatialRelContains&distance=50&units=esriSRUnit_Meter&relationParam=&outFields=*&returnGeometry=false&returnTrueCurves=false&maxAllowableOffset=&geometryPrecision=&outSR=&havingClause=&returnIdsOnly=false&returnCountOnly=false&orderByFields=&groupByFieldsForStatistics=&outStatistics=&returnZ=false&returnM=false&gdbVersion=&historicMoment=&returnDistinctValues=false&resultOffset=&resultRecordCount=&returnExtentOnly=false&datumTransformation=&parameterValues=&rangeValues=&quantizationParameters=&featureEncoding=esriDefault&f=pjson\"\n",
    "    import urllib.request, json \n",
    "    with urllib.request.urlopen(urli) as url:\n",
    "        js = json.loads(url.read().decode())\n",
    "    ind=1\n",
    "    while(len(js[\"features\"])==0):\n",
    "        urli=\"https://serviciosgis.catastrobogota.gov.co/arcgis/rest/services/catastro/usopredominante/MapServer/9/query?where=&text=&objectIds=&time=1609477200&geometry=%7B%22x%22+%3A+\"+str(lon)+\"%2C+%22y%22+%3A+\"+str(lat)+\"%2C+%22spatialReference%22+%3A+%7B%22wkid%22+%3A+4326%7D%7D&geometryType=esriGeometryPoint&inSR=&spatialRel=esriSpatialRelContains&distance=\"+str(100*ind)+\"&units=esriSRUnit_Meter&relationParam=&outFields=*&returnGeometry=false&returnTrueCurves=false&maxAllowableOffset=&geometryPrecision=&outSR=&havingClause=&returnIdsOnly=false&returnCountOnly=false&orderByFields=&groupByFieldsForStatistics=&outStatistics=&returnZ=false&returnM=false&gdbVersion=&historicMoment=&returnDistinctValues=false&resultOffset=&resultRecordCount=&returnExtentOnly=false&datumTransformation=&parameterValues=&rangeValues=&quantizationParameters=&featureEncoding=esriDefault&f=pjson\"\n",
    "    \n",
    "        import urllib.request, json \n",
    "        with urllib.request.urlopen(urli) as url:\n",
    "            js = json.loads(url.read().decode())\n",
    "        ind=ind+1\n",
    "    return js[\"features\"][0]\n",
    "#Recaudo Predial por Sector 2018\n",
    "def getPREDIAL(lat,lon):\n",
    "\n",
    "    urli=\"https://serviciosgis.catastrobogota.gov.co/arcgis/rest/services/ordenamientoterritorial/recaudopredial/MapServer/19/query?where=&text=&objectIds=&time=&geometry=%7B%22x%22+%3A+\"+str(lon)+\"%2C+%22y%22+%3A+\"+str(lat)+\"%2C+%22spatialReference%22+%3A+%7B%22wkid%22+%3A+4326%7D%7D&geometryType=esriGeometryPoint&inSR=&spatialRel=esriSpatialRelIntersects&distance=50&units=esriSRUnit_Meter&relationParam=&outFields=*&returnGeometry=false&returnTrueCurves=false&maxAllowableOffset=&geometryPrecision=&outSR=&havingClause=&returnIdsOnly=false&returnCountOnly=false&orderByFields=&groupByFieldsForStatistics=&outStatistics=&returnZ=false&returnM=false&gdbVersion=&historicMoment=&returnDistinctValues=false&resultOffset=&resultRecordCount=&returnExtentOnly=false&datumTransformation=&parameterValues=&rangeValues=&quantizationParameters=&featureEncoding=esriDefault&f=pjson\"\n",
    "    import urllib.request, json \n",
    "    with urllib.request.urlopen(urli) as url:\n",
    "        js = json.loads(url.read().decode())\n",
    "    ind=1\n",
    "    while(len(js[\"features\"])==0):\n",
    "        urli=\"https://serviciosgis.catastrobogota.gov.co/arcgis/rest/services/ordenamientoterritorial/recaudopredial/MapServer/19/query?where=&text=&objectIds=&time=&geometry=%7B%22x%22+%3A+\"+str(lon)+\"%2C+%22y%22+%3A+\"+str(lat)+\"%2C+%22spatialReference%22+%3A+%7B%22wkid%22+%3A+4326%7D%7D&geometryType=esriGeometryPoint&inSR=&spatialRel=esriSpatialRelIntersects&distance=+\"+str(100*ind)+\"&units=esriSRUnit_Meter&relationParam=&outFields=*&returnGeometry=false&returnTrueCurves=false&maxAllowableOffset=&geometryPrecision=&outSR=&havingClause=&returnIdsOnly=false&returnCountOnly=false&orderByFields=&groupByFieldsForStatistics=&outStatistics=&returnZ=false&returnM=false&gdbVersion=&historicMoment=&returnDistinctValues=false&resultOffset=&resultRecordCount=&returnExtentOnly=false&datumTransformation=&parameterValues=&rangeValues=&quantizationParameters=&featureEncoding=esriDefault&f=pjson\"\n",
    "    \n",
    "        import urllib.request, json \n",
    "        with urllib.request.urlopen(urli) as url:\n",
    "            js = json.loads(url.read().decode())\n",
    "        ind=ind+1\n",
    "    return js[\"features\"][0]\n",
    "\n"
   ]
  },
  {
   "cell_type": "code",
   "execution_count": null,
   "metadata": {},
   "outputs": [],
   "source": [
    "neig=[]\n",
    "quarter=[]\n",
    "suburb=[]\n",
    "avaluoc=[]\n",
    "avaluocom=[]\n",
    "valorref=[]\n",
    "uso=[]\n",
    "predial=[]\n",
    "i=0\n",
    "for row in test.itertuples(index=True, name='Pandas'):\n",
    "    lat=row.latitud\t\n",
    "    lon=row.longitud\n",
    "    rev=(getReverse(lat, lon))\n",
    "    \n",
    "    neig.append(rev[\"address\"][\"neighbourhood\"] if rev[\"address\"][\"neighbourhood\"] is not None else \"NA\")\n",
    "    quarter.append(rev[\"address\"][\"quarter\"] if rev[\"address\"][\"quarter\"] is not None else \"NA\" )\n",
    "    suburb.append(rev[\"address\"][\"suburb\"] if rev[\"address\"][\"suburb\"] is not None else \"NA\")\n",
    "    avaluoc.append(getAVALUO_CAT_MZ(lat, lon)['attributes']['AVALUO_CAT_MZ'])\n",
    "    avaluocom.append(getAVALUO_COM_MZ(lat, lon)['attributes'][\"AVALUO_COM_MZ\"])\n",
    "    valorref.append(getVALOR_REF_2020(lat, lon)['attributes'][\"V_REF\"])\n",
    "    uso.append(getUSO(lat, lon)['attributes'][\"USO\"])\n",
    "    f=getPREDIAL(lat, lon)['attributes']\n",
    "    predial.append(f[\"RSCVPAGO\"]/f[\"SHAPE.AREA\"])\n",
    "    i=i+1\n",
    "    print(i)"
   ]
  },
  {
   "cell_type": "code",
   "execution_count": null,
   "metadata": {},
   "outputs": [],
   "source": [
    "\n",
    "neig2=[]\n",
    "quarter2=[]\n",
    "suburb2=[]\n",
    "avaluoc2=[]\n",
    "avaluocom2=[]\n",
    "valorref2=[]\n",
    "uso2=[]\n",
    "predial2=[]\n",
    "i=0"
   ]
  },
  {
   "cell_type": "code",
   "execution_count": 66,
   "metadata": {},
   "outputs": [
    {
     "name": "stdout",
     "output_type": "stream",
     "text": [
      "867\n"
     ]
    }
   ],
   "source": [
    "print(i)\n",
    "neig2=neig2[:866]\n",
    "quarter2=quarter2[:866]\n",
    "suburb2=suburb2[:866]\n",
    "avaluoc2=avaluoc2[:866]\n",
    "avaluocom2=avaluocom2[:866]\n",
    "valorref2=valorref2[:866]\n",
    "uso2=uso2[:866]\n",
    "predial2=predial2[:866]"
   ]
  },
  {
   "cell_type": "code",
   "execution_count": null,
   "metadata": {},
   "outputs": [],
   "source": [
    "i=159\n",
    "\n",
    "for row in train[159:].itertuples(index=True, name='Pandas'):\n",
    "    lat=row.latitud\t\n",
    "    lon=row.longitud\n",
    "    rev=(getReverse(lat, lon))\n",
    "    neig2.append(rev[\"address\"][\"neighbourhood\"] if \"neighbourhood\" in  rev[\"address\"] else \"NA\")\n",
    "    quarter2.append(rev[\"address\"][\"quarter\"] if \"quarter\" in  rev[\"address\"] else \"NA\" )\n",
    "    suburb2.append(rev[\"address\"][\"suburb\"] if \"suburb\" in  rev[\"address\"] else \"NA\")\n",
    "    avaluoc2.append(getAVALUO_CAT_MZ(lat, lon)['attributes']['AVALUO_CAT_MZ'])\n",
    "    avaluocom2.append(getAVALUO_COM_MZ(lat, lon)['attributes'][\"AVALUO_COM_MZ\"])\n",
    "    valorref2.append(getVALOR_REF_2020(lat, lon)['attributes'][\"V_REF\"])\n",
    "    uso2.append(getUSO(lat, lon)['attributes'][\"USO\"])\n",
    "    f=getPREDIAL(lat, lon)['attributes']\n",
    "    predial2.append(f[\"RSCVPAGO\"]/f[\"SHAPE.AREA\"])\n",
    "    i=i+1\n",
    "    print(i)"
   ]
  },
  {
   "cell_type": "code",
   "execution_count": 67,
   "metadata": {},
   "outputs": [
    {
     "name": "stderr",
     "output_type": "stream",
     "text": [
      "<ipython-input-67-a26618a2948f>:2: SettingWithCopyWarning: \n",
      "A value is trying to be set on a copy of a slice from a DataFrame.\n",
      "Try using .loc[row_indexer,col_indexer] = value instead\n",
      "\n",
      "See the caveats in the documentation: https://pandas.pydata.org/pandas-docs/stable/user_guide/indexing.html#returning-a-view-versus-a-copy\n",
      "  train[\"barrio\"]=neig2\n",
      "<ipython-input-67-a26618a2948f>:3: SettingWithCopyWarning: \n",
      "A value is trying to be set on a copy of a slice from a DataFrame.\n",
      "Try using .loc[row_indexer,col_indexer] = value instead\n",
      "\n",
      "See the caveats in the documentation: https://pandas.pydata.org/pandas-docs/stable/user_guide/indexing.html#returning-a-view-versus-a-copy\n",
      "  train[\"upz\"]=quarter2\n",
      "<ipython-input-67-a26618a2948f>:4: SettingWithCopyWarning: \n",
      "A value is trying to be set on a copy of a slice from a DataFrame.\n",
      "Try using .loc[row_indexer,col_indexer] = value instead\n",
      "\n",
      "See the caveats in the documentation: https://pandas.pydata.org/pandas-docs/stable/user_guide/indexing.html#returning-a-view-versus-a-copy\n",
      "  train[\"localidad\"]=suburb2\n",
      "<ipython-input-67-a26618a2948f>:5: SettingWithCopyWarning: \n",
      "A value is trying to be set on a copy of a slice from a DataFrame.\n",
      "Try using .loc[row_indexer,col_indexer] = value instead\n",
      "\n",
      "See the caveats in the documentation: https://pandas.pydata.org/pandas-docs/stable/user_guide/indexing.html#returning-a-view-versus-a-copy\n",
      "  train[\"avaluotercatastral\"]=avaluoc2\n",
      "<ipython-input-67-a26618a2948f>:6: SettingWithCopyWarning: \n",
      "A value is trying to be set on a copy of a slice from a DataFrame.\n",
      "Try using .loc[row_indexer,col_indexer] = value instead\n",
      "\n",
      "See the caveats in the documentation: https://pandas.pydata.org/pandas-docs/stable/user_guide/indexing.html#returning-a-view-versus-a-copy\n",
      "  train[\"avaluotercomercial\"]=avaluocom2\n",
      "<ipython-input-67-a26618a2948f>:7: SettingWithCopyWarning: \n",
      "A value is trying to be set on a copy of a slice from a DataFrame.\n",
      "Try using .loc[row_indexer,col_indexer] = value instead\n",
      "\n",
      "See the caveats in the documentation: https://pandas.pydata.org/pandas-docs/stable/user_guide/indexing.html#returning-a-view-versus-a-copy\n",
      "  train[\"valorref\"]=valorref2\n",
      "<ipython-input-67-a26618a2948f>:8: SettingWithCopyWarning: \n",
      "A value is trying to be set on a copy of a slice from a DataFrame.\n",
      "Try using .loc[row_indexer,col_indexer] = value instead\n",
      "\n",
      "See the caveats in the documentation: https://pandas.pydata.org/pandas-docs/stable/user_guide/indexing.html#returning-a-view-versus-a-copy\n",
      "  train[\"uso\"]=uso2\n",
      "<ipython-input-67-a26618a2948f>:9: SettingWithCopyWarning: \n",
      "A value is trying to be set on a copy of a slice from a DataFrame.\n",
      "Try using .loc[row_indexer,col_indexer] = value instead\n",
      "\n",
      "See the caveats in the documentation: https://pandas.pydata.org/pandas-docs/stable/user_guide/indexing.html#returning-a-view-versus-a-copy\n",
      "  train[\"predial\"]=predial2\n"
     ]
    }
   ],
   "source": [
    "train=train[:866]\n",
    "train[\"barrio\"]=neig2\n",
    "train[\"upz\"]=quarter2\n",
    "train[\"localidad\"]=suburb2\n",
    "train[\"avaluotercatastral\"]=avaluoc2\n",
    "train[\"avaluotercomercial\"]=avaluocom2\n",
    "train[\"valorref\"]=valorref2\n",
    "train[\"uso\"]=uso2\n",
    "train[\"predial\"]=predial2"
   ]
  },
  {
   "cell_type": "code",
   "execution_count": 68,
   "metadata": {},
   "outputs": [
    {
     "data": {
      "text/html": "<div>\n<style scoped>\n    .dataframe tbody tr th:only-of-type {\n        vertical-align: middle;\n    }\n\n    .dataframe tbody tr th {\n        vertical-align: top;\n    }\n\n    .dataframe thead th {\n        text-align: right;\n    }\n</style>\n<table border=\"1\" class=\"dataframe\">\n  <thead>\n    <tr style=\"text-align: right;\">\n      <th></th>\n      <th>id</th>\n      <th>area</th>\n      <th>ascensor</th>\n      <th>balcon</th>\n      <th>banos</th>\n      <th>banoservicio</th>\n      <th>conjuntocerrado</th>\n      <th>cuartoservicio</th>\n      <th>deposito</th>\n      <th>estrato</th>\n      <th>...</th>\n      <th>latitud</th>\n      <th>longitud</th>\n      <th>barrio</th>\n      <th>upz</th>\n      <th>localidad</th>\n      <th>avaluotercatastral</th>\n      <th>avaluotercomercial</th>\n      <th>valorref</th>\n      <th>uso</th>\n      <th>predial</th>\n    </tr>\n  </thead>\n  <tbody>\n    <tr>\n      <th>861</th>\n      <td>899633</td>\n      <td>335.0</td>\n      <td>NaN</td>\n      <td>NaN</td>\n      <td>NaN</td>\n      <td>NaN</td>\n      <td>0</td>\n      <td>NaN</td>\n      <td>0.0</td>\n      <td>4.0</td>\n      <td>...</td>\n      <td>4.641835</td>\n      <td>-74.075245</td>\n      <td>Galerías</td>\n      <td>UPZ Galerías</td>\n      <td>Localidad Teusaquillo</td>\n      <td>1952727.0</td>\n      <td>2409612.0</td>\n      <td>2600000.0</td>\n      <td>RESIDENCIAL</td>\n      <td>11579.857248</td>\n    </tr>\n    <tr>\n      <th>862</th>\n      <td>1148360</td>\n      <td>41.0</td>\n      <td>NaN</td>\n      <td>NaN</td>\n      <td>NaN</td>\n      <td>1.0</td>\n      <td>0</td>\n      <td>1.0</td>\n      <td>0.0</td>\n      <td>4.0</td>\n      <td>...</td>\n      <td>4.639174</td>\n      <td>-74.075268</td>\n      <td>Siete de Agosto</td>\n      <td>UPZ Los Alcázares</td>\n      <td>Localidad Barrios Unidos</td>\n      <td>603750.0</td>\n      <td>2149405.0</td>\n      <td>825000.0</td>\n      <td>RESIDENCIAL</td>\n      <td>8516.899583</td>\n    </tr>\n    <tr>\n      <th>863</th>\n      <td>1061368</td>\n      <td>285.0</td>\n      <td>NaN</td>\n      <td>NaN</td>\n      <td>NaN</td>\n      <td>NaN</td>\n      <td>0</td>\n      <td>NaN</td>\n      <td>0.0</td>\n      <td>NaN</td>\n      <td>...</td>\n      <td>4.664778</td>\n      <td>-74.071220</td>\n      <td>Siete de Agosto</td>\n      <td>UPZ Los Alcázares</td>\n      <td>Localidad Barrios Unidos</td>\n      <td>1874325.0</td>\n      <td>2507357.0</td>\n      <td>2900000.0</td>\n      <td>RESIDENCIAL</td>\n      <td>8516.899583</td>\n    </tr>\n    <tr>\n      <th>864</th>\n      <td>1204298</td>\n      <td>132.0</td>\n      <td>NaN</td>\n      <td>NaN</td>\n      <td>NaN</td>\n      <td>1.0</td>\n      <td>0</td>\n      <td>NaN</td>\n      <td>1.0</td>\n      <td>3.0</td>\n      <td>...</td>\n      <td>4.660447</td>\n      <td>-74.068325</td>\n      <td>Polo Club</td>\n      <td>UPZ Los Alcázares</td>\n      <td>Localidad Barrios Unidos</td>\n      <td>1621024.0</td>\n      <td>1900606.0</td>\n      <td>3000000.0</td>\n      <td>RESIDENCIAL</td>\n      <td>9501.459335</td>\n    </tr>\n    <tr>\n      <th>865</th>\n      <td>1161643</td>\n      <td>330.0</td>\n      <td>NaN</td>\n      <td>NaN</td>\n      <td>NaN</td>\n      <td>NaN</td>\n      <td>0</td>\n      <td>NaN</td>\n      <td>0.0</td>\n      <td>NaN</td>\n      <td>...</td>\n      <td>4.676304</td>\n      <td>-74.060088</td>\n      <td>NA</td>\n      <td>UPZ Los Alcázares</td>\n      <td>Localidad Barrios Unidos</td>\n      <td>1858749.0</td>\n      <td>2482605.0</td>\n      <td>3000000.0</td>\n      <td>RESIDENCIAL</td>\n      <td>11162.469785</td>\n    </tr>\n  </tbody>\n</table>\n<p>5 rows × 40 columns</p>\n</div>",
      "text/plain": "          id   area  ascensor  balcon  banos  banoservicio  conjuntocerrado  \\\n861   899633  335.0       NaN     NaN    NaN           NaN                0   \n862  1148360   41.0       NaN     NaN    NaN           1.0                0   \n863  1061368  285.0       NaN     NaN    NaN           NaN                0   \n864  1204298  132.0       NaN     NaN    NaN           1.0                0   \n865  1161643  330.0       NaN     NaN    NaN           NaN                0   \n\n     cuartoservicio  deposito  estrato  ...   latitud   longitud  \\\n861             NaN       0.0      4.0  ...  4.641835 -74.075245   \n862             1.0       0.0      4.0  ...  4.639174 -74.075268   \n863             NaN       0.0      NaN  ...  4.664778 -74.071220   \n864             NaN       1.0      3.0  ...  4.660447 -74.068325   \n865             NaN       0.0      NaN  ...  4.676304 -74.060088   \n\n              barrio                upz                 localidad  \\\n861         Galerías       UPZ Galerías     Localidad Teusaquillo   \n862  Siete de Agosto  UPZ Los Alcázares  Localidad Barrios Unidos   \n863  Siete de Agosto  UPZ Los Alcázares  Localidad Barrios Unidos   \n864        Polo Club  UPZ Los Alcázares  Localidad Barrios Unidos   \n865               NA  UPZ Los Alcázares  Localidad Barrios Unidos   \n\n     avaluotercatastral  avaluotercomercial   valorref          uso  \\\n861           1952727.0           2409612.0  2600000.0  RESIDENCIAL   \n862            603750.0           2149405.0   825000.0  RESIDENCIAL   \n863           1874325.0           2507357.0  2900000.0  RESIDENCIAL   \n864           1621024.0           1900606.0  3000000.0  RESIDENCIAL   \n865           1858749.0           2482605.0  3000000.0  RESIDENCIAL   \n\n          predial  \n861  11579.857248  \n862   8516.899583  \n863   8516.899583  \n864   9501.459335  \n865  11162.469785  \n\n[5 rows x 40 columns]"
     },
     "execution_count": 68,
     "metadata": {},
     "output_type": "execute_result"
    }
   ],
   "source": [
    "train.tail()"
   ]
  },
  {
   "cell_type": "code",
   "execution_count": 27,
   "metadata": {},
   "outputs": [],
   "source": [
    "test[\"barrio\"]=neig\n",
    "test[\"upz\"]=quarter\n",
    "test[\"localidad\"]=suburb\n",
    "test[\"avaluotercatastral\"]=avaluoc\n",
    "test[\"avaluotercomercial\"]=avaluocom\n",
    "test[\"valorref\"]=valorref\n",
    "test[\"uso\"]=uso\n",
    "test[\"predial\"]=predial"
   ]
  },
  {
   "cell_type": "code",
   "execution_count": null,
   "metadata": {},
   "outputs": [
    {
     "data": {
      "text/html": "<div>\n<style scoped>\n    .dataframe tbody tr th:only-of-type {\n        vertical-align: middle;\n    }\n\n    .dataframe tbody tr th {\n        vertical-align: top;\n    }\n\n    .dataframe thead th {\n        text-align: right;\n    }\n</style>\n<table border=\"1\" class=\"dataframe\">\n  <thead>\n    <tr style=\"text-align: right;\">\n      <th></th>\n      <th>id</th>\n      <th>area</th>\n      <th>ascensor</th>\n      <th>balcon</th>\n      <th>banos</th>\n      <th>banoservicio</th>\n      <th>conjuntocerrado</th>\n      <th>cuartoservicio</th>\n      <th>deposito</th>\n      <th>estrato</th>\n      <th>...</th>\n      <th>latitud</th>\n      <th>longitud</th>\n      <th>barrio</th>\n      <th>upz</th>\n      <th>localidad</th>\n      <th>avaluotercatastral</th>\n      <th>avaluotercomercial</th>\n      <th>valorref</th>\n      <th>uso</th>\n      <th>predial</th>\n    </tr>\n  </thead>\n  <tbody>\n    <tr>\n      <th>0</th>\n      <td>877392</td>\n      <td>104.0</td>\n      <td>NaN</td>\n      <td>NaN</td>\n      <td>2.0</td>\n      <td>NaN</td>\n      <td>0</td>\n      <td>NaN</td>\n      <td>NaN</td>\n      <td>2.0</td>\n      <td>...</td>\n      <td>4.711503</td>\n      <td>-74.132378</td>\n      <td>La Faena</td>\n      <td>UPZ Engativá</td>\n      <td>Localidad Engativá</td>\n      <td>1282500.0</td>\n      <td>1900000.0</td>\n      <td>2350000.0</td>\n      <td>RESIDENCIAL</td>\n      <td>5.965010e+08</td>\n    </tr>\n    <tr>\n      <th>1</th>\n      <td>201483</td>\n      <td>144.0</td>\n      <td>NaN</td>\n      <td>NaN</td>\n      <td>2.0</td>\n      <td>NaN</td>\n      <td>0</td>\n      <td>NaN</td>\n      <td>1.0</td>\n      <td>3.0</td>\n      <td>...</td>\n      <td>4.700643</td>\n      <td>-74.090080</td>\n      <td>Minuto de Dios</td>\n      <td>UPZ El Minuto de Dios</td>\n      <td>Localidad Engativá</td>\n      <td>1587492.0</td>\n      <td>2292440.0</td>\n      <td>2850000.0</td>\n      <td>RESIDENCIAL</td>\n      <td>3.576877e+09</td>\n    </tr>\n  </tbody>\n</table>\n<p>2 rows × 40 columns</p>\n</div>",
      "text/plain": "       id   area  ascensor  balcon  banos  banoservicio  conjuntocerrado  \\\n0  877392  104.0       NaN     NaN    2.0           NaN                0   \n1  201483  144.0       NaN     NaN    2.0           NaN                0   \n\n   cuartoservicio  deposito  estrato  ...   latitud   longitud  \\\n0             NaN       NaN      2.0  ...  4.711503 -74.132378   \n1             NaN       1.0      3.0  ...  4.700643 -74.090080   \n\n           barrio                    upz           localidad  \\\n0        La Faena           UPZ Engativá  Localidad Engativá   \n1  Minuto de Dios  UPZ El Minuto de Dios  Localidad Engativá   \n\n   avaluotercatastral  avaluotercomercial   valorref          uso  \\\n0           1282500.0           1900000.0  2350000.0  RESIDENCIAL   \n1           1587492.0           2292440.0  2850000.0  RESIDENCIAL   \n\n        predial  \n0  5.965010e+08  \n1  3.576877e+09  \n\n[2 rows x 40 columns]"
     },
     "execution_count": 9,
     "metadata": {},
     "output_type": "execute_result"
    }
   ],
   "source": [
    "test.head(2)"
   ]
  },
  {
   "cell_type": "code",
   "execution_count": 69,
   "metadata": {},
   "outputs": [
    {
     "data": {
      "text/plain": "Index(['id', 'area', 'ascensor', 'balcon', 'banos', 'banoservicio',\n       'conjuntocerrado', 'cuartoservicio', 'deposito', 'estrato', 'estudio',\n       'garajes', 'gimnasio', 'habitaciones', 'halldealcobas',\n       'parqueaderovisitantes', 'piscina', 'piso', 'porteria', 'remodelado',\n       'saloncomunal', 'terraza', 'tiempodeconstruido', 'vigilancia', 'vista',\n       'zonalavanderia', 'valoradministracion', 'valorventa', 'tipoinmueble',\n       'tiponegocio', 'latitud', 'longitud', 'barrio', 'upz', 'localidad',\n       'avaluotercatastral', 'avaluotercomercial', 'valorref', 'uso',\n       'predial'],\n      dtype='object')"
     },
     "execution_count": 69,
     "metadata": {},
     "output_type": "execute_result"
    }
   ],
   "source": [
    "test.columns"
   ]
  },
  {
   "cell_type": "code",
   "execution_count": 70,
   "metadata": {},
   "outputs": [
    {
     "data": {
      "text/plain": "<AxesSubplot:>"
     },
     "execution_count": 70,
     "metadata": {},
     "output_type": "execute_result"
    },
    {
     "data": {
      "image/png": "[encoded data removed]",
      "text/plain": "<Figure size 720x720 with 2 Axes>"
     },
     "metadata": {
      "needs_background": "light"
     },
     "output_type": "display_data"
    }
   ],
   "source": [
    "import matplotlib.pyplot as plt\n",
    "import seaborn as sns\n",
    "test.describe()\n",
    "#Análisis de correlacion\n",
    "correlation = test.corr()\n",
    "plt.figure(figsize=(10, 10))\n",
    "sns.heatmap(correlation, vmax=1, square=True, annot=True, cmap='cubehelix')"
   ]
  },
  {
   "cell_type": "code",
   "execution_count": 71,
   "metadata": {},
   "outputs": [
    {
     "data": {
      "text/html": "<div>\n<style scoped>\n    .dataframe tbody tr th:only-of-type {\n        vertical-align: middle;\n    }\n\n    .dataframe tbody tr th {\n        vertical-align: top;\n    }\n\n    .dataframe thead th {\n        text-align: right;\n    }\n</style>\n<table border=\"1\" class=\"dataframe\">\n  <thead>\n    <tr style=\"text-align: right;\">\n      <th></th>\n      <th>id</th>\n      <th>area</th>\n      <th>ascensor</th>\n      <th>balcon</th>\n      <th>banos</th>\n      <th>banoservicio</th>\n      <th>conjuntocerrado</th>\n      <th>cuartoservicio</th>\n      <th>deposito</th>\n      <th>estrato</th>\n      <th>...</th>\n      <th>vigilancia</th>\n      <th>zonalavanderia</th>\n      <th>valoradministracion</th>\n      <th>valorventa</th>\n      <th>latitud</th>\n      <th>longitud</th>\n      <th>avaluotercatastral</th>\n      <th>avaluotercomercial</th>\n      <th>valorref</th>\n      <th>predial</th>\n    </tr>\n  </thead>\n  <tbody>\n    <tr>\n      <th>count</th>\n      <td>5.300000e+01</td>\n      <td>53.000000</td>\n      <td>0.0</td>\n      <td>14.0</td>\n      <td>53.000000</td>\n      <td>0.0</td>\n      <td>53.0</td>\n      <td>7.0</td>\n      <td>27.0</td>\n      <td>53.000000</td>\n      <td>...</td>\n      <td>17.0</td>\n      <td>29.0</td>\n      <td>45.000000</td>\n      <td>5.300000e+01</td>\n      <td>53.000000</td>\n      <td>53.000000</td>\n      <td>5.300000e+01</td>\n      <td>5.300000e+01</td>\n      <td>5.200000e+01</td>\n      <td>53.000000</td>\n    </tr>\n    <tr>\n      <th>mean</th>\n      <td>6.960469e+05</td>\n      <td>153.471698</td>\n      <td>NaN</td>\n      <td>1.0</td>\n      <td>2.792453</td>\n      <td>NaN</td>\n      <td>0.0</td>\n      <td>1.0</td>\n      <td>1.0</td>\n      <td>3.094340</td>\n      <td>...</td>\n      <td>1.0</td>\n      <td>1.0</td>\n      <td>35333.333333</td>\n      <td>4.360057e+08</td>\n      <td>4.706348</td>\n      <td>-74.088809</td>\n      <td>1.343581e+06</td>\n      <td>2.159267e+06</td>\n      <td>2.456346e+06</td>\n      <td>8661.861995</td>\n    </tr>\n    <tr>\n      <th>std</th>\n      <td>3.584821e+05</td>\n      <td>28.876131</td>\n      <td>NaN</td>\n      <td>0.0</td>\n      <td>0.631192</td>\n      <td>NaN</td>\n      <td>0.0</td>\n      <td>0.0</td>\n      <td>0.0</td>\n      <td>0.449964</td>\n      <td>...</td>\n      <td>0.0</td>\n      <td>0.0</td>\n      <td>62870.718723</td>\n      <td>1.571573e+08</td>\n      <td>0.041581</td>\n      <td>0.035541</td>\n      <td>3.910383e+05</td>\n      <td>3.895121e+05</td>\n      <td>4.463272e+05</td>\n      <td>3907.328601</td>\n    </tr>\n    <tr>\n      <th>min</th>\n      <td>7.862200e+04</td>\n      <td>104.000000</td>\n      <td>NaN</td>\n      <td>1.0</td>\n      <td>2.000000</td>\n      <td>NaN</td>\n      <td>0.0</td>\n      <td>1.0</td>\n      <td>1.0</td>\n      <td>2.000000</td>\n      <td>...</td>\n      <td>1.0</td>\n      <td>1.0</td>\n      <td>0.000000</td>\n      <td>1.850000e+08</td>\n      <td>4.633404</td>\n      <td>-74.146896</td>\n      <td>6.210000e+05</td>\n      <td>7.500000e+05</td>\n      <td>7.800000e+05</td>\n      <td>1793.645848</td>\n    </tr>\n    <tr>\n      <th>25%</th>\n      <td>4.249850e+05</td>\n      <td>144.000000</td>\n      <td>NaN</td>\n      <td>1.0</td>\n      <td>2.000000</td>\n      <td>NaN</td>\n      <td>0.0</td>\n      <td>1.0</td>\n      <td>1.0</td>\n      <td>3.000000</td>\n      <td>...</td>\n      <td>1.0</td>\n      <td>1.0</td>\n      <td>0.000000</td>\n      <td>3.300000e+08</td>\n      <td>4.699873</td>\n      <td>-74.093254</td>\n      <td>8.997450e+05</td>\n      <td>2.154007e+06</td>\n      <td>2.400000e+06</td>\n      <td>5480.852120</td>\n    </tr>\n    <tr>\n      <th>50%</th>\n      <td>6.306310e+05</td>\n      <td>145.000000</td>\n      <td>NaN</td>\n      <td>1.0</td>\n      <td>3.000000</td>\n      <td>NaN</td>\n      <td>0.0</td>\n      <td>1.0</td>\n      <td>1.0</td>\n      <td>3.000000</td>\n      <td>...</td>\n      <td>1.0</td>\n      <td>1.0</td>\n      <td>0.000000</td>\n      <td>3.700000e+08</td>\n      <td>4.702654</td>\n      <td>-74.090080</td>\n      <td>1.528732e+06</td>\n      <td>2.333681e+06</td>\n      <td>2.500000e+06</td>\n      <td>7198.719700</td>\n    </tr>\n    <tr>\n      <th>75%</th>\n      <td>9.398430e+05</td>\n      <td>150.000000</td>\n      <td>NaN</td>\n      <td>1.0</td>\n      <td>3.000000</td>\n      <td>NaN</td>\n      <td>0.0</td>\n      <td>1.0</td>\n      <td>1.0</td>\n      <td>3.000000</td>\n      <td>...</td>\n      <td>1.0</td>\n      <td>1.0</td>\n      <td>0.000000</td>\n      <td>5.149900e+08</td>\n      <td>4.744143</td>\n      <td>-74.063286</td>\n      <td>1.587492e+06</td>\n      <td>2.400000e+06</td>\n      <td>2.550000e+06</td>\n      <td>12867.270326</td>\n    </tr>\n    <tr>\n      <th>max</th>\n      <td>1.368608e+06</td>\n      <td>230.000000</td>\n      <td>NaN</td>\n      <td>1.0</td>\n      <td>4.000000</td>\n      <td>NaN</td>\n      <td>0.0</td>\n      <td>1.0</td>\n      <td>1.0</td>\n      <td>5.000000</td>\n      <td>...</td>\n      <td>1.0</td>\n      <td>1.0</td>\n      <td>150000.000000</td>\n      <td>9.300000e+08</td>\n      <td>4.744805</td>\n      <td>-74.038290</td>\n      <td>2.099500e+06</td>\n      <td>2.553863e+06</td>\n      <td>2.900000e+06</td>\n      <td>15761.230144</td>\n    </tr>\n  </tbody>\n</table>\n<p>8 rows × 32 columns</p>\n</div>",
      "text/plain": "                 id        area  ascensor  balcon      banos  banoservicio  \\\ncount  5.300000e+01   53.000000       0.0    14.0  53.000000           0.0   \nmean   6.960469e+05  153.471698       NaN     1.0   2.792453           NaN   \nstd    3.584821e+05   28.876131       NaN     0.0   0.631192           NaN   \nmin    7.862200e+04  104.000000       NaN     1.0   2.000000           NaN   \n25%    4.249850e+05  144.000000       NaN     1.0   2.000000           NaN   \n50%    6.306310e+05  145.000000       NaN     1.0   3.000000           NaN   \n75%    9.398430e+05  150.000000       NaN     1.0   3.000000           NaN   \nmax    1.368608e+06  230.000000       NaN     1.0   4.000000           NaN   \n\n       conjuntocerrado  cuartoservicio  deposito    estrato  ...  vigilancia  \\\ncount             53.0             7.0      27.0  53.000000  ...        17.0   \nmean               0.0             1.0       1.0   3.094340  ...         1.0   \nstd                0.0             0.0       0.0   0.449964  ...         0.0   \nmin                0.0             1.0       1.0   2.000000  ...         1.0   \n25%                0.0             1.0       1.0   3.000000  ...         1.0   \n50%                0.0             1.0       1.0   3.000000  ...         1.0   \n75%                0.0             1.0       1.0   3.000000  ...         1.0   \nmax                0.0             1.0       1.0   5.000000  ...         1.0   \n\n       zonalavanderia  valoradministracion    valorventa    latitud  \\\ncount            29.0            45.000000  5.300000e+01  53.000000   \nmean              1.0         35333.333333  4.360057e+08   4.706348   \nstd               0.0         62870.718723  1.571573e+08   0.041581   \nmin               1.0             0.000000  1.850000e+08   4.633404   \n25%               1.0             0.000000  3.300000e+08   4.699873   \n50%               1.0             0.000000  3.700000e+08   4.702654   \n75%               1.0             0.000000  5.149900e+08   4.744143   \nmax               1.0        150000.000000  9.300000e+08   4.744805   \n\n        longitud  avaluotercatastral  avaluotercomercial      valorref  \\\ncount  53.000000        5.300000e+01        5.300000e+01  5.200000e+01   \nmean  -74.088809        1.343581e+06        2.159267e+06  2.456346e+06   \nstd     0.035541        3.910383e+05        3.895121e+05  4.463272e+05   \nmin   -74.146896        6.210000e+05        7.500000e+05  7.800000e+05   \n25%   -74.093254        8.997450e+05        2.154007e+06  2.400000e+06   \n50%   -74.090080        1.528732e+06        2.333681e+06  2.500000e+06   \n75%   -74.063286        1.587492e+06        2.400000e+06  2.550000e+06   \nmax   -74.038290        2.099500e+06        2.553863e+06  2.900000e+06   \n\n            predial  \ncount     53.000000  \nmean    8661.861995  \nstd     3907.328601  \nmin     1793.645848  \n25%     5480.852120  \n50%     7198.719700  \n75%    12867.270326  \nmax    15761.230144  \n\n[8 rows x 32 columns]"
     },
     "execution_count": 71,
     "metadata": {},
     "output_type": "execute_result"
    }
   ],
   "source": [
    "test.describe()"
   ]
  },
  {
   "cell_type": "code",
   "execution_count": 72,
   "metadata": {},
   "outputs": [],
   "source": [
    "from sklearn.impute import SimpleImputer\n",
    "import numpy as np\n",
    "\n",
    "\n",
    "# Creando un objeto ``SimpleImputer``\n",
    "impute_zeros = SimpleImputer(\n",
    "    missing_values=np.nan,  # Los valores faltantes son de tipo ``np.nan`` (estandar Pandas)\n",
    "    strategy='constant',  # La estrategia escogida es reemplazar por una constante\n",
    "    fill_value=0,  # La constante que será usada para reemmplazar los valores faltantes es un int64=0.\n",
    "    verbose=0,\n",
    "    copy=True\n",
    ")"
   ]
  },
  {
   "cell_type": "code",
   "execution_count": 73,
   "metadata": {},
   "outputs": [
    {
     "name": "stdout",
     "output_type": "stream",
     "text": [
      "Valores nulos antes de transformación SimpleImputer: \n",
      "\n",
      "id                         0\n",
      "area                      24\n",
      "ascensor                 842\n",
      "balcon                   777\n",
      "banos                    866\n",
      "banoservicio             783\n",
      "conjuntocerrado            0\n",
      "cuartoservicio           779\n",
      "deposito                 158\n",
      "estrato                  123\n",
      "estudio                  866\n",
      "garajes                  532\n",
      "gimnasio                 158\n",
      "habitaciones             142\n",
      "halldealcobas            863\n",
      "parqueaderovisitantes    746\n",
      "piscina                  850\n",
      "piso                     862\n",
      "porteria                 853\n",
      "remodelado               815\n",
      "saloncomunal             640\n",
      "terraza                  790\n",
      "tiempodeconstruido       829\n",
      "vigilancia               866\n",
      "vista                    623\n",
      "zonalavanderia           556\n",
      "valoradministracion      146\n",
      "valorventa                 0\n",
      "tipoinmueble               0\n",
      "tiponegocio                0\n",
      "latitud                    0\n",
      "longitud                   0\n",
      "barrio                     0\n",
      "upz                        0\n",
      "localidad                  0\n",
      "avaluotercatastral         0\n",
      "avaluotercomercial         0\n",
      "valorref                  13\n",
      "uso                        6\n",
      "predial                    0\n",
      "dtype: int64\n",
      "\n",
      "Valores nulos del dataset despues de la transformación SimpleImputer: \n",
      "\n",
      "id                       0\n",
      "area                     0\n",
      "ascensor                 0\n",
      "balcon                   0\n",
      "banos                    0\n",
      "banoservicio             0\n",
      "conjuntocerrado          0\n",
      "cuartoservicio           0\n",
      "deposito                 0\n",
      "estrato                  0\n",
      "estudio                  0\n",
      "garajes                  0\n",
      "gimnasio                 0\n",
      "habitaciones             0\n",
      "halldealcobas            0\n",
      "parqueaderovisitantes    0\n",
      "piscina                  0\n",
      "piso                     0\n",
      "porteria                 0\n",
      "remodelado               0\n",
      "saloncomunal             0\n",
      "terraza                  0\n",
      "tiempodeconstruido       0\n",
      "vigilancia               0\n",
      "vista                    0\n",
      "zonalavanderia           0\n",
      "valoradministracion      0\n",
      "valorventa               0\n",
      "tipoinmueble             0\n",
      "tiponegocio              0\n",
      "latitud                  0\n",
      "longitud                 0\n",
      "barrio                   0\n",
      "upz                      0\n",
      "localidad                0\n",
      "avaluotercatastral       0\n",
      "avaluotercomercial       0\n",
      "valorref                 0\n",
      "uso                      6\n",
      "predial                  0\n",
      "dtype: int64\n",
      "\n"
     ]
    }
   ],
   "source": [
    "print(\"Valores nulos antes de transformación SimpleImputer: \\n\\n{}\\n\".format(train.isnull().sum(axis = 0)))\n",
    "\n",
    "impute_zeros.fit(X=train)\n",
    "\n",
    "dftrain = pd.DataFrame.from_records(\n",
    "    data=impute_zeros.transform(\n",
    "        X=train\n",
    "    ),  # El resultado SimpleImputer.transform(<<pandas dataframe>>) es una lista de listas\n",
    "    columns=train.columns  # Las columnas originals deben ser conservadas en esta transformación\n",
    ")\n",
    "\n",
    "print(\"Valores nulos del dataset despues de la transformación SimpleImputer: \\n\\n{}\\n\".format(dftrain.isnull().sum(axis = 0)))"
   ]
  },
  {
   "cell_type": "code",
   "execution_count": 74,
   "metadata": {},
   "outputs": [
    {
     "name": "stdout",
     "output_type": "stream",
     "text": [
      "Valores nulos antes de transformación SimpleImputer: \n",
      "\n",
      "id                        0\n",
      "area                      0\n",
      "ascensor                 53\n",
      "balcon                   39\n",
      "banos                     0\n",
      "banoservicio             53\n",
      "conjuntocerrado           0\n",
      "cuartoservicio           46\n",
      "deposito                 26\n",
      "estrato                   0\n",
      "estudio                  31\n",
      "garajes                   0\n",
      "gimnasio                 53\n",
      "habitaciones              0\n",
      "halldealcobas            32\n",
      "parqueaderovisitantes    52\n",
      "piscina                  53\n",
      "piso                     25\n",
      "porteria                 53\n",
      "remodelado               53\n",
      "saloncomunal             52\n",
      "terraza                  39\n",
      "tiempodeconstruido        0\n",
      "vigilancia               36\n",
      "vista                    51\n",
      "zonalavanderia           24\n",
      "valoradministracion       8\n",
      "valorventa                0\n",
      "tipoinmueble              0\n",
      "tiponegocio               0\n",
      "latitud                   0\n",
      "longitud                  0\n",
      "barrio                    0\n",
      "upz                       0\n",
      "localidad                 0\n",
      "avaluotercatastral        0\n",
      "avaluotercomercial        0\n",
      "valorref                  1\n",
      "uso                       0\n",
      "predial                   0\n",
      "dtype: int64\n",
      "\n",
      "Valores nulos del dataset despues de la transformación SimpleImputer: \n",
      "\n",
      "id                       0\n",
      "area                     0\n",
      "ascensor                 0\n",
      "balcon                   0\n",
      "banos                    0\n",
      "banoservicio             0\n",
      "conjuntocerrado          0\n",
      "cuartoservicio           0\n",
      "deposito                 0\n",
      "estrato                  0\n",
      "estudio                  0\n",
      "garajes                  0\n",
      "gimnasio                 0\n",
      "habitaciones             0\n",
      "halldealcobas            0\n",
      "parqueaderovisitantes    0\n",
      "piscina                  0\n",
      "piso                     0\n",
      "porteria                 0\n",
      "remodelado               0\n",
      "saloncomunal             0\n",
      "terraza                  0\n",
      "tiempodeconstruido       0\n",
      "vigilancia               0\n",
      "vista                    0\n",
      "zonalavanderia           0\n",
      "valoradministracion      0\n",
      "valorventa               0\n",
      "tipoinmueble             0\n",
      "tiponegocio              0\n",
      "latitud                  0\n",
      "longitud                 0\n",
      "barrio                   0\n",
      "upz                      0\n",
      "localidad                0\n",
      "avaluotercatastral       0\n",
      "avaluotercomercial       0\n",
      "valorref                 0\n",
      "uso                      0\n",
      "predial                  0\n",
      "dtype: int64\n",
      "\n"
     ]
    }
   ],
   "source": [
    "print(\"Valores nulos antes de transformación SimpleImputer: \\n\\n{}\\n\".format(test.isnull().sum(axis = 0)))\n",
    "impute_zeros = SimpleImputer(\n",
    "    missing_values=np.nan,  # Los valores faltantes son de tipo ``np.nan`` (estandar Pandas)\n",
    "    strategy='constant',  # La estrategia escogida es reemplazar por una constante\n",
    "    fill_value=0,  # La constante que será usada para reemmplazar los valores faltantes es un int64=0.\n",
    "    verbose=0,\n",
    "    copy=True\n",
    ")\n",
    "impute_zeros.fit(X=test)\n",
    "\n",
    "df = pd.DataFrame.from_records(\n",
    "    data=impute_zeros.transform(\n",
    "        X=test\n",
    "    ),  # El resultado SimpleImputer.transform(<<pandas dataframe>>) es una lista de listas\n",
    "    columns=test.columns  # Las columnas originals deben ser conservadas en esta transformación\n",
    ")\n",
    "\n",
    "print(\"Valores nulos del dataset despues de la transformación SimpleImputer: \\n\\n{}\\n\".format(df.isnull().sum(axis = 0)))"
   ]
  },
  {
   "cell_type": "code",
   "execution_count": 75,
   "metadata": {},
   "outputs": [
    {
     "data": {
      "text/html": "<div>\n<style scoped>\n    .dataframe tbody tr th:only-of-type {\n        vertical-align: middle;\n    }\n\n    .dataframe tbody tr th {\n        vertical-align: top;\n    }\n\n    .dataframe thead th {\n        text-align: right;\n    }\n</style>\n<table border=\"1\" class=\"dataframe\">\n  <thead>\n    <tr style=\"text-align: right;\">\n      <th></th>\n      <th>id</th>\n      <th>area</th>\n      <th>ascensor</th>\n      <th>balcon</th>\n      <th>banos</th>\n      <th>banoservicio</th>\n      <th>conjuntocerrado</th>\n      <th>cuartoservicio</th>\n      <th>deposito</th>\n      <th>estrato</th>\n      <th>...</th>\n      <th>latitud</th>\n      <th>longitud</th>\n      <th>barrio</th>\n      <th>upz</th>\n      <th>localidad</th>\n      <th>avaluotercatastral</th>\n      <th>avaluotercomercial</th>\n      <th>valorref</th>\n      <th>uso</th>\n      <th>predial</th>\n    </tr>\n  </thead>\n  <tbody>\n    <tr>\n      <th>48</th>\n      <td>726088</td>\n      <td>230.0</td>\n      <td>0</td>\n      <td>0.0</td>\n      <td>4.0</td>\n      <td>0</td>\n      <td>0</td>\n      <td>1.0</td>\n      <td>0.0</td>\n      <td>4.0</td>\n      <td>...</td>\n      <td>4.737032</td>\n      <td>-74.038290</td>\n      <td>Las Orquídeas</td>\n      <td>UPZ Toberín</td>\n      <td>Localidad Usaquén</td>\n      <td>1226105.0</td>\n      <td>2400000.0</td>\n      <td>2400000.0</td>\n      <td>RESIDENCIAL</td>\n      <td>9899.337826</td>\n    </tr>\n    <tr>\n      <th>49</th>\n      <td>752156</td>\n      <td>230.0</td>\n      <td>0</td>\n      <td>0.0</td>\n      <td>4.0</td>\n      <td>0</td>\n      <td>0</td>\n      <td>1.0</td>\n      <td>0.0</td>\n      <td>4.0</td>\n      <td>...</td>\n      <td>4.735844</td>\n      <td>-74.038440</td>\n      <td>Las Orquídeas</td>\n      <td>UPZ Toberín</td>\n      <td>Localidad Usaquén</td>\n      <td>737917.0</td>\n      <td>1393036.0</td>\n      <td>2400000.0</td>\n      <td>RESIDENCIAL</td>\n      <td>9899.337826</td>\n    </tr>\n    <tr>\n      <th>50</th>\n      <td>1055205</td>\n      <td>230.0</td>\n      <td>0</td>\n      <td>0.0</td>\n      <td>4.0</td>\n      <td>0</td>\n      <td>0</td>\n      <td>1.0</td>\n      <td>0.0</td>\n      <td>4.0</td>\n      <td>...</td>\n      <td>4.736058</td>\n      <td>-74.040634</td>\n      <td>Villa Magdala</td>\n      <td>UPZ Toberín</td>\n      <td>Localidad Usaquén</td>\n      <td>737917.0</td>\n      <td>1628470.0</td>\n      <td>2400000.0</td>\n      <td>RESIDENCIAL</td>\n      <td>10930.486477</td>\n    </tr>\n    <tr>\n      <th>51</th>\n      <td>1289402</td>\n      <td>230.0</td>\n      <td>0</td>\n      <td>0.0</td>\n      <td>4.0</td>\n      <td>0</td>\n      <td>0</td>\n      <td>1.0</td>\n      <td>0.0</td>\n      <td>4.0</td>\n      <td>...</td>\n      <td>4.737620</td>\n      <td>-74.040190</td>\n      <td>Las Orquídeas</td>\n      <td>UPZ Toberín</td>\n      <td>Localidad Usaquén</td>\n      <td>2019245.0</td>\n      <td>2400000.0</td>\n      <td>2400000.0</td>\n      <td>RESIDENCIAL</td>\n      <td>10930.486477</td>\n    </tr>\n    <tr>\n      <th>52</th>\n      <td>372796</td>\n      <td>230.0</td>\n      <td>0</td>\n      <td>0.0</td>\n      <td>4.0</td>\n      <td>0</td>\n      <td>0</td>\n      <td>1.0</td>\n      <td>0.0</td>\n      <td>5.0</td>\n      <td>...</td>\n      <td>4.702654</td>\n      <td>-74.058466</td>\n      <td>La Alhambra</td>\n      <td>UPZ La Alhambra</td>\n      <td>Localidad Suba</td>\n      <td>2099500.0</td>\n      <td>2470000.0</td>\n      <td>2500000.0</td>\n      <td>RESIDENCIAL</td>\n      <td>15761.230144</td>\n    </tr>\n  </tbody>\n</table>\n<p>5 rows × 40 columns</p>\n</div>",
      "text/plain": "         id   area  ascensor  balcon  banos  banoservicio  conjuntocerrado  \\\n48   726088  230.0         0     0.0    4.0             0                0   \n49   752156  230.0         0     0.0    4.0             0                0   \n50  1055205  230.0         0     0.0    4.0             0                0   \n51  1289402  230.0         0     0.0    4.0             0                0   \n52   372796  230.0         0     0.0    4.0             0                0   \n\n    cuartoservicio  deposito  estrato  ...   latitud   longitud  \\\n48             1.0       0.0      4.0  ...  4.737032 -74.038290   \n49             1.0       0.0      4.0  ...  4.735844 -74.038440   \n50             1.0       0.0      4.0  ...  4.736058 -74.040634   \n51             1.0       0.0      4.0  ...  4.737620 -74.040190   \n52             1.0       0.0      5.0  ...  4.702654 -74.058466   \n\n           barrio              upz          localidad  avaluotercatastral  \\\n48  Las Orquídeas      UPZ Toberín  Localidad Usaquén           1226105.0   \n49  Las Orquídeas      UPZ Toberín  Localidad Usaquén            737917.0   \n50  Villa Magdala      UPZ Toberín  Localidad Usaquén            737917.0   \n51  Las Orquídeas      UPZ Toberín  Localidad Usaquén           2019245.0   \n52    La Alhambra  UPZ La Alhambra     Localidad Suba           2099500.0   \n\n    avaluotercomercial   valorref          uso       predial  \n48           2400000.0  2400000.0  RESIDENCIAL   9899.337826  \n49           1393036.0  2400000.0  RESIDENCIAL   9899.337826  \n50           1628470.0  2400000.0  RESIDENCIAL  10930.486477  \n51           2400000.0  2400000.0  RESIDENCIAL  10930.486477  \n52           2470000.0  2500000.0  RESIDENCIAL  15761.230144  \n\n[5 rows x 40 columns]"
     },
     "execution_count": 75,
     "metadata": {},
     "output_type": "execute_result"
    }
   ],
   "source": [
    "df.tail()"
   ]
  },
  {
   "cell_type": "code",
   "execution_count": 167,
   "metadata": {},
   "outputs": [],
   "source": [
    "df2 = df.drop(columns=[ 'id',\"latitud\",\"longitud\"], inplace=False)"
   ]
  },
  {
   "cell_type": "code",
   "execution_count": 168,
   "metadata": {},
   "outputs": [],
   "source": [
    "df2train = dftrain.drop(columns=[ 'id',\"latitud\",\"longitud\"], inplace=False)"
   ]
  },
  {
   "cell_type": "code",
   "execution_count": 231,
   "metadata": {},
   "outputs": [
    {
     "data": {
      "text/plain": "861    1.200000e+09\n862    2.691610e+08\n863    1.450000e+09\n864    6.000000e+08\n865    1.700000e+09\nName: valorventa, dtype: float64"
     },
     "execution_count": 231,
     "metadata": {},
     "output_type": "execute_result"
    }
   ],
   "source": [
    "df2train[\"valorventa\"].tail()"
   ]
  },
  {
   "cell_type": "code",
   "execution_count": 241,
   "metadata": {},
   "outputs": [],
   "source": [
    "# Columnas One-hot-encoding del dataset usando el metodo de Pandas ``get_dummies``  (demontración)\n",
    "\n",
    "df3 = pd.get_dummies(df2, columns=['tipoinmueble',\n",
    "       'tiponegocio',  'upz', 'localidad',\"estrato\", 'uso', \"vista\",'tiempodeconstruido'])"
   ]
  },
  {
   "cell_type": "code",
   "execution_count": 242,
   "metadata": {},
   "outputs": [],
   "source": [
    "# Columnas One-hot-encoding del dataset usando el metodo de Pandas ``get_dummies``  (demontración)\n",
    "df3train = pd.get_dummies(df2train, columns=['tipoinmueble',\n",
    "       'tiponegocio', 'upz', 'localidad',\"estrato\", 'uso', \"vista\",'tiempodeconstruido'])\n",
    "\n",
    "del df3[\"barrio\"]\n",
    "del df3train[\"barrio\"]"
   ]
  },
  {
   "cell_type": "code",
   "execution_count": 243,
   "metadata": {},
   "outputs": [
    {
     "name": "stdout",
     "output_type": "stream",
     "text": [
      "Index(['area', 'ascensor', 'balcon', 'banos', 'banoservicio',\n",
      "       'conjuntocerrado', 'cuartoservicio', 'deposito', 'estudio', 'garajes',\n",
      "       'gimnasio', 'habitaciones', 'halldealcobas', 'parqueaderovisitantes',\n",
      "       'piscina', 'piso', 'porteria', 'remodelado', 'saloncomunal', 'terraza',\n",
      "       'vigilancia', 'zonalavanderia', 'valoradministracion', 'valorventa',\n",
      "       'avaluotercatastral', 'avaluotercomercial', 'valorref', 'predial',\n",
      "       'tipoinmueble_Casa', 'tiponegocio_Venta', 'upz_UPZ Britalia',\n",
      "       'upz_UPZ Castilla', 'upz_UPZ El Minuto de Dios', 'upz_UPZ Engativá',\n",
      "       'upz_UPZ La Alhambra', 'upz_UPZ Toberín',\n",
      "       'localidad_Localidad Engativá', 'localidad_Localidad Kennedy',\n",
      "       'localidad_Localidad Suba', 'localidad_Localidad Usaquén',\n",
      "       'estrato_2.0', 'estrato_3.0', 'estrato_4.0', 'estrato_5.0', 'uso_OTROS',\n",
      "       'uso_RESIDENCIAL', 'vista_0', 'vista_Exterior',\n",
      "       'tiempodeconstruido_1 a 8 años', 'tiempodeconstruido_16 a 30 años',\n",
      "       'tiempodeconstruido_9 a 15 años',\n",
      "       'tiempodeconstruido_Entre 10 y 20 años',\n",
      "       'tiempodeconstruido_Más de 20 años'],\n",
      "      dtype='object')\n"
     ]
    },
    {
     "data": {
      "text/plain": "Index(['area', 'ascensor', 'balcon', 'banos', 'banoservicio',\n       'conjuntocerrado', 'cuartoservicio', 'deposito', 'estudio', 'garajes',\n       ...\n       'uso_RESIDENCIAL', 'uso_UNIVERSIDADES Y COLEGIOS', 'vista_0',\n       'vista_Exterior', 'vista_Interior', 'tiempodeconstruido_0',\n       'tiempodeconstruido_Entre 0 y 5 años',\n       'tiempodeconstruido_Entre 10 y 20 años',\n       'tiempodeconstruido_Entre 5 y 10 años',\n       'tiempodeconstruido_Más de 20 años'],\n      dtype='object', length=169)"
     },
     "execution_count": 243,
     "metadata": {},
     "output_type": "execute_result"
    }
   ],
   "source": [
    "print((df3.columns))\n",
    "df3train.columns"
   ]
  },
  {
   "cell_type": "code",
   "execution_count": 244,
   "metadata": {},
   "outputs": [
    {
     "data": {
      "text/html": "<div>\n<style scoped>\n    .dataframe tbody tr th:only-of-type {\n        vertical-align: middle;\n    }\n\n    .dataframe tbody tr th {\n        vertical-align: top;\n    }\n\n    .dataframe thead th {\n        text-align: right;\n    }\n</style>\n<table border=\"1\" class=\"dataframe\">\n  <thead>\n    <tr style=\"text-align: right;\">\n      <th></th>\n      <th>area</th>\n      <th>ascensor</th>\n      <th>balcon</th>\n      <th>banos</th>\n      <th>banoservicio</th>\n      <th>conjuntocerrado</th>\n      <th>cuartoservicio</th>\n      <th>deposito</th>\n      <th>estudio</th>\n      <th>garajes</th>\n      <th>...</th>\n      <th>estrato_5.0</th>\n      <th>uso_OTROS</th>\n      <th>uso_RESIDENCIAL</th>\n      <th>vista_0</th>\n      <th>vista_Exterior</th>\n      <th>tiempodeconstruido_1 a 8 años</th>\n      <th>tiempodeconstruido_16 a 30 años</th>\n      <th>tiempodeconstruido_9 a 15 años</th>\n      <th>tiempodeconstruido_Entre 10 y 20 años</th>\n      <th>tiempodeconstruido_Más de 20 años</th>\n    </tr>\n  </thead>\n  <tbody>\n    <tr>\n      <th>48</th>\n      <td>230.0</td>\n      <td>0</td>\n      <td>0.0</td>\n      <td>4.0</td>\n      <td>0</td>\n      <td>0</td>\n      <td>1.0</td>\n      <td>0.0</td>\n      <td>1.0</td>\n      <td>2.0</td>\n      <td>...</td>\n      <td>0</td>\n      <td>0</td>\n      <td>1</td>\n      <td>1</td>\n      <td>0</td>\n      <td>0</td>\n      <td>0</td>\n      <td>0</td>\n      <td>0</td>\n      <td>1</td>\n    </tr>\n    <tr>\n      <th>49</th>\n      <td>230.0</td>\n      <td>0</td>\n      <td>0.0</td>\n      <td>4.0</td>\n      <td>0</td>\n      <td>0</td>\n      <td>1.0</td>\n      <td>0.0</td>\n      <td>1.0</td>\n      <td>2.0</td>\n      <td>...</td>\n      <td>0</td>\n      <td>0</td>\n      <td>1</td>\n      <td>1</td>\n      <td>0</td>\n      <td>0</td>\n      <td>0</td>\n      <td>0</td>\n      <td>0</td>\n      <td>1</td>\n    </tr>\n    <tr>\n      <th>50</th>\n      <td>230.0</td>\n      <td>0</td>\n      <td>0.0</td>\n      <td>4.0</td>\n      <td>0</td>\n      <td>0</td>\n      <td>1.0</td>\n      <td>0.0</td>\n      <td>1.0</td>\n      <td>2.0</td>\n      <td>...</td>\n      <td>0</td>\n      <td>0</td>\n      <td>1</td>\n      <td>1</td>\n      <td>0</td>\n      <td>0</td>\n      <td>0</td>\n      <td>0</td>\n      <td>0</td>\n      <td>1</td>\n    </tr>\n    <tr>\n      <th>51</th>\n      <td>230.0</td>\n      <td>0</td>\n      <td>0.0</td>\n      <td>4.0</td>\n      <td>0</td>\n      <td>0</td>\n      <td>1.0</td>\n      <td>0.0</td>\n      <td>1.0</td>\n      <td>2.0</td>\n      <td>...</td>\n      <td>0</td>\n      <td>0</td>\n      <td>1</td>\n      <td>1</td>\n      <td>0</td>\n      <td>0</td>\n      <td>0</td>\n      <td>0</td>\n      <td>0</td>\n      <td>1</td>\n    </tr>\n    <tr>\n      <th>52</th>\n      <td>230.0</td>\n      <td>0</td>\n      <td>0.0</td>\n      <td>4.0</td>\n      <td>0</td>\n      <td>0</td>\n      <td>1.0</td>\n      <td>0.0</td>\n      <td>1.0</td>\n      <td>2.0</td>\n      <td>...</td>\n      <td>1</td>\n      <td>0</td>\n      <td>1</td>\n      <td>0</td>\n      <td>1</td>\n      <td>0</td>\n      <td>0</td>\n      <td>0</td>\n      <td>1</td>\n      <td>0</td>\n    </tr>\n  </tbody>\n</table>\n<p>5 rows × 53 columns</p>\n</div>",
      "text/plain": "     area  ascensor  balcon  banos  banoservicio  conjuntocerrado  \\\n48  230.0         0     0.0    4.0             0                0   \n49  230.0         0     0.0    4.0             0                0   \n50  230.0         0     0.0    4.0             0                0   \n51  230.0         0     0.0    4.0             0                0   \n52  230.0         0     0.0    4.0             0                0   \n\n    cuartoservicio  deposito  estudio  garajes  ...  estrato_5.0  uso_OTROS  \\\n48             1.0       0.0      1.0      2.0  ...            0          0   \n49             1.0       0.0      1.0      2.0  ...            0          0   \n50             1.0       0.0      1.0      2.0  ...            0          0   \n51             1.0       0.0      1.0      2.0  ...            0          0   \n52             1.0       0.0      1.0      2.0  ...            1          0   \n\n    uso_RESIDENCIAL  vista_0  vista_Exterior  tiempodeconstruido_1 a 8 años  \\\n48                1        1               0                              0   \n49                1        1               0                              0   \n50                1        1               0                              0   \n51                1        1               0                              0   \n52                1        0               1                              0   \n\n    tiempodeconstruido_16 a 30 años  tiempodeconstruido_9 a 15 años  \\\n48                                0                               0   \n49                                0                               0   \n50                                0                               0   \n51                                0                               0   \n52                                0                               0   \n\n    tiempodeconstruido_Entre 10 y 20 años  tiempodeconstruido_Más de 20 años  \n48                                      0                                  1  \n49                                      0                                  1  \n50                                      0                                  1  \n51                                      0                                  1  \n52                                      1                                  0  \n\n[5 rows x 53 columns]"
     },
     "execution_count": 244,
     "metadata": {},
     "output_type": "execute_result"
    }
   ],
   "source": [
    "df3.tail()"
   ]
  },
  {
   "cell_type": "code",
   "execution_count": 246,
   "metadata": {},
   "outputs": [],
   "source": [
    "for i in df3train.columns:\n",
    "    if(not i in df3.columns):\n",
    "        #df3.boxplot(column=i, by='valorventa', figsize=(20,5))\n",
    "        df3[i]=np.zeros(len(df3))\n",
    "        \n",
    "\n",
    "for j in df3.columns:\n",
    "    if(not j in  df3train.columns):\n",
    "        #df3.boxplot(column=i, by='valorventa', figsize=(20,5))\n",
    "        df3train[j]=np.zeros(len(df3train))\n",
    "\n"
   ]
  },
  {
   "cell_type": "code",
   "execution_count": 247,
   "metadata": {},
   "outputs": [
    {
     "name": "stdout",
     "output_type": "stream",
     "text": [
      "172\n",
      "172\n"
     ]
    }
   ],
   "source": [
    "print(len(df3.columns))\n",
    "print(len(df3train.columns))"
   ]
  },
  {
   "cell_type": "code",
   "execution_count": 177,
   "metadata": {},
   "outputs": [],
   "source": [
    "for i in df3train.columns:\n",
    "    if(df3[i].mean()<=0.0 and df3train[i].mean()<=0.0):\n",
    "        #df3.boxplot(column=i, by='valorventa', figsize=(20,5))\n",
    "        del df3[i]\n",
    "        del df3train[i]\n",
    "        "
   ]
  },
  {
   "cell_type": "code",
   "execution_count": 248,
   "metadata": {},
   "outputs": [],
   "source": [
    "# Método para creacion de modelos \n",
    "from sklearn.cluster import KMeans\n",
    "\n",
    "kmeans = KMeans( random_state=50).fit(df3train)\n",
    "classified_data = kmeans.labels_\n",
    "centroids  = kmeans.cluster_centers_ \n",
    "\n"
   ]
  },
  {
   "cell_type": "code",
   "execution_count": 249,
   "metadata": {},
   "outputs": [],
   "source": [
    "y_kmeans = kmeans.predict(df3train)"
   ]
  },
  {
   "cell_type": "code",
   "execution_count": 250,
   "metadata": {},
   "outputs": [
    {
     "data": {
      "text/plain": "<matplotlib.collections.PathCollection at 0x7fa0cb5a6580>"
     },
     "execution_count": 250,
     "metadata": {},
     "output_type": "execute_result"
    },
    {
     "data": {
      "image/png": "[encoded data removed]",
      "text/plain": "<Figure size 432x288 with 1 Axes>"
     },
     "metadata": {
      "needs_background": "light"
     },
     "output_type": "display_data"
    }
   ],
   "source": [
    "#plt.scatter(df3train[:, 0], df3train[:, 1], c=y_kmeans, s=50, cmap='viridis')\n",
    "\n",
    "centers = kmeans.cluster_centers_\n",
    "plt.scatter(centers[:, 0], centers[:, 1], c='black', s=200, alpha=0.5)"
   ]
  },
  {
   "cell_type": "code",
   "execution_count": 251,
   "metadata": {},
   "outputs": [
    {
     "name": "stdout",
     "output_type": "stream",
     "text": [
      "[3 3 3 0 0 0 0 0 3 0 0 0 0 0 0 0 0 3 3 3 3 3 3 3 3 3 3 3 3 3 3 3 3 3 3 3 3\n",
      " 3 3 3 3 3 3 3 3 3 3 0 0 0 0 0 0]\n",
      "3\n",
      "519000000.0\n",
      "3579310.3448275863\n",
      "3\n",
      "519000000.0\n",
      "3579310.3448275863\n",
      "3\n",
      "519000000.0\n",
      "3579310.3448275863\n",
      "0\n",
      "185000000.0\n",
      "1778846.1538461538\n",
      "0\n",
      "185000000.0\n",
      "1778846.1538461538\n",
      "0\n",
      "185000000.0\n",
      "1778846.1538461538\n",
      "0\n",
      "185000000.0\n",
      "1778846.1538461538\n",
      "0\n",
      "185000000.0\n",
      "1778846.1538461538\n",
      "3\n",
      "519000000.0\n",
      "3579310.3448275863\n",
      "0\n",
      "185000000.0\n",
      "1778846.1538461538\n",
      "0\n",
      "185000000.0\n",
      "1778846.1538461538\n",
      "0\n",
      "185000000.0\n",
      "1778846.1538461538\n",
      "0\n",
      "185000000.0\n",
      "1778846.1538461538\n",
      "0\n",
      "185000000.0\n",
      "1778846.1538461538\n",
      "0\n",
      "185000000.0\n",
      "1778846.1538461538\n",
      "0\n",
      "185000000.0\n",
      "1778846.1538461538\n",
      "0\n",
      "185000000.0\n",
      "1778846.1538461538\n",
      "3\n",
      "519000000.0\n",
      "3579310.3448275863\n",
      "3\n",
      "519000000.0\n",
      "3579310.3448275863\n",
      "3\n",
      "519000000.0\n",
      "3579310.3448275863\n",
      "3\n",
      "519000000.0\n",
      "3579310.3448275863\n",
      "3\n",
      "519000000.0\n",
      "3579310.3448275863\n",
      "3\n",
      "519000000.0\n",
      "3579310.3448275863\n",
      "3\n",
      "519000000.0\n",
      "3579310.3448275863\n",
      "3\n",
      "519000000.0\n",
      "3579310.3448275863\n",
      "3\n",
      "519000000.0\n",
      "3579310.3448275863\n",
      "3\n",
      "519000000.0\n",
      "3579310.3448275863\n",
      "3\n",
      "519000000.0\n",
      "3579310.3448275863\n",
      "3\n",
      "519000000.0\n",
      "3579310.3448275863\n",
      "3\n",
      "519000000.0\n",
      "3579310.3448275863\n",
      "3\n",
      "519000000.0\n",
      "3579310.3448275863\n",
      "3\n",
      "519000000.0\n",
      "3579310.3448275863\n",
      "3\n",
      "519000000.0\n",
      "3579310.3448275863\n",
      "3\n",
      "519000000.0\n",
      "3579310.3448275863\n",
      "3\n",
      "519000000.0\n",
      "3579310.3448275863\n",
      "3\n",
      "519000000.0\n",
      "3579310.3448275863\n",
      "3\n",
      "519000000.0\n",
      "3579310.3448275863\n",
      "3\n",
      "519000000.0\n",
      "3579310.3448275863\n",
      "3\n",
      "519000000.0\n",
      "3579310.3448275863\n",
      "3\n",
      "519000000.0\n",
      "3579310.3448275863\n",
      "3\n",
      "519000000.0\n",
      "3579310.3448275863\n",
      "3\n",
      "519000000.0\n",
      "3579310.3448275863\n",
      "3\n",
      "519000000.0\n",
      "3579310.3448275863\n",
      "3\n",
      "519000000.0\n",
      "3579310.3448275863\n",
      "3\n",
      "519000000.0\n",
      "3579310.3448275863\n",
      "3\n",
      "519000000.0\n",
      "3579310.3448275863\n",
      "3\n",
      "519000000.0\n",
      "3579310.3448275863\n",
      "0\n",
      "185000000.0\n",
      "1778846.1538461538\n",
      "0\n",
      "185000000.0\n",
      "1778846.1538461538\n",
      "0\n",
      "185000000.0\n",
      "1778846.1538461538\n",
      "0\n",
      "185000000.0\n",
      "1778846.1538461538\n",
      "0\n",
      "185000000.0\n",
      "1778846.1538461538\n",
      "0\n",
      "185000000.0\n",
      "1778846.1538461538\n"
     ]
    }
   ],
   "source": [
    "label = kmeans.predict(df3)\n",
    "print(label)\n",
    "prices=[]\n",
    "#Getting unique labels\n",
    "def getFinalPrice():\n",
    "    ind=0\n",
    "    for row in df3.itertuples(index=True, name='Pandas'):\n",
    "        avc=row.avaluotercatastral\n",
    "        ar=row.area\n",
    "        print(label[ind])\n",
    "        print(df3[\"valorventa\"][label[ind]])\n",
    "        temp=(df3[\"valorventa\"][label[ind]]/df3[\"area\"][label[ind]])\n",
    "        print(temp)\n",
    "        var=min(temp,row.valorventa/row.area if row.area>0 else -1)\n",
    "        incr=(var-avc)*0.51\n",
    "        prices.append(avc+incr)\n",
    "        ind=ind+1\n",
    "\n",
    "getFinalPrice()"
   ]
  },
  {
   "cell_type": "code",
   "execution_count": 254,
   "metadata": {},
   "outputs": [],
   "source": [
    "df3[\"valormt2_predicted\"]=prices"
   ]
  },
  {
   "cell_type": "code",
   "execution_count": 255,
   "metadata": {},
   "outputs": [
    {
     "data": {
      "text/html": "<div>\n<style scoped>\n    .dataframe tbody tr th:only-of-type {\n        vertical-align: middle;\n    }\n\n    .dataframe tbody tr th {\n        vertical-align: top;\n    }\n\n    .dataframe thead th {\n        text-align: right;\n    }\n</style>\n<table border=\"1\" class=\"dataframe\">\n  <thead>\n    <tr style=\"text-align: right;\">\n      <th></th>\n      <th>area</th>\n      <th>ascensor</th>\n      <th>balcon</th>\n      <th>banos</th>\n      <th>banoservicio</th>\n      <th>conjuntocerrado</th>\n      <th>cuartoservicio</th>\n      <th>deposito</th>\n      <th>estudio</th>\n      <th>garajes</th>\n      <th>...</th>\n      <th>uso_BODEGAS</th>\n      <th>uso_COMERCIO</th>\n      <th>uso_INDUSTRIA</th>\n      <th>uso_OFICINAS</th>\n      <th>uso_UNIVERSIDADES Y COLEGIOS</th>\n      <th>vista_Interior</th>\n      <th>tiempodeconstruido_0</th>\n      <th>tiempodeconstruido_Entre 0 y 5 años</th>\n      <th>tiempodeconstruido_Entre 5 y 10 años</th>\n      <th>valormt2_predicted</th>\n    </tr>\n  </thead>\n  <tbody>\n    <tr>\n      <th>48</th>\n      <td>230.0</td>\n      <td>0</td>\n      <td>0.0</td>\n      <td>4.0</td>\n      <td>0</td>\n      <td>0</td>\n      <td>1.0</td>\n      <td>0.0</td>\n      <td>1.0</td>\n      <td>2.0</td>\n      <td>...</td>\n      <td>0.0</td>\n      <td>0.0</td>\n      <td>0.0</td>\n      <td>0.0</td>\n      <td>0.0</td>\n      <td>0.0</td>\n      <td>0.0</td>\n      <td>0.0</td>\n      <td>0.0</td>\n      <td>1.508003e+06</td>\n    </tr>\n    <tr>\n      <th>49</th>\n      <td>230.0</td>\n      <td>0</td>\n      <td>0.0</td>\n      <td>4.0</td>\n      <td>0</td>\n      <td>0</td>\n      <td>1.0</td>\n      <td>0.0</td>\n      <td>1.0</td>\n      <td>2.0</td>\n      <td>...</td>\n      <td>0.0</td>\n      <td>0.0</td>\n      <td>0.0</td>\n      <td>0.0</td>\n      <td>0.0</td>\n      <td>0.0</td>\n      <td>0.0</td>\n      <td>0.0</td>\n      <td>0.0</td>\n      <td>1.268791e+06</td>\n    </tr>\n    <tr>\n      <th>50</th>\n      <td>230.0</td>\n      <td>0</td>\n      <td>0.0</td>\n      <td>4.0</td>\n      <td>0</td>\n      <td>0</td>\n      <td>1.0</td>\n      <td>0.0</td>\n      <td>1.0</td>\n      <td>2.0</td>\n      <td>...</td>\n      <td>0.0</td>\n      <td>0.0</td>\n      <td>0.0</td>\n      <td>0.0</td>\n      <td>0.0</td>\n      <td>0.0</td>\n      <td>0.0</td>\n      <td>0.0</td>\n      <td>0.0</td>\n      <td>1.268791e+06</td>\n    </tr>\n    <tr>\n      <th>51</th>\n      <td>230.0</td>\n      <td>0</td>\n      <td>0.0</td>\n      <td>4.0</td>\n      <td>0</td>\n      <td>0</td>\n      <td>1.0</td>\n      <td>0.0</td>\n      <td>1.0</td>\n      <td>2.0</td>\n      <td>...</td>\n      <td>0.0</td>\n      <td>0.0</td>\n      <td>0.0</td>\n      <td>0.0</td>\n      <td>0.0</td>\n      <td>0.0</td>\n      <td>0.0</td>\n      <td>0.0</td>\n      <td>0.0</td>\n      <td>1.896642e+06</td>\n    </tr>\n    <tr>\n      <th>52</th>\n      <td>230.0</td>\n      <td>0</td>\n      <td>0.0</td>\n      <td>4.0</td>\n      <td>0</td>\n      <td>0</td>\n      <td>1.0</td>\n      <td>0.0</td>\n      <td>1.0</td>\n      <td>2.0</td>\n      <td>...</td>\n      <td>0.0</td>\n      <td>0.0</td>\n      <td>0.0</td>\n      <td>0.0</td>\n      <td>0.0</td>\n      <td>0.0</td>\n      <td>0.0</td>\n      <td>0.0</td>\n      <td>0.0</td>\n      <td>1.935967e+06</td>\n    </tr>\n  </tbody>\n</table>\n<p>5 rows × 173 columns</p>\n</div>",
      "text/plain": "     area  ascensor  balcon  banos  banoservicio  conjuntocerrado  \\\n48  230.0         0     0.0    4.0             0                0   \n49  230.0         0     0.0    4.0             0                0   \n50  230.0         0     0.0    4.0             0                0   \n51  230.0         0     0.0    4.0             0                0   \n52  230.0         0     0.0    4.0             0                0   \n\n    cuartoservicio  deposito  estudio  garajes  ...  uso_BODEGAS  \\\n48             1.0       0.0      1.0      2.0  ...          0.0   \n49             1.0       0.0      1.0      2.0  ...          0.0   \n50             1.0       0.0      1.0      2.0  ...          0.0   \n51             1.0       0.0      1.0      2.0  ...          0.0   \n52             1.0       0.0      1.0      2.0  ...          0.0   \n\n    uso_COMERCIO  uso_INDUSTRIA  uso_OFICINAS  uso_UNIVERSIDADES Y COLEGIOS  \\\n48           0.0            0.0           0.0                           0.0   \n49           0.0            0.0           0.0                           0.0   \n50           0.0            0.0           0.0                           0.0   \n51           0.0            0.0           0.0                           0.0   \n52           0.0            0.0           0.0                           0.0   \n\n    vista_Interior  tiempodeconstruido_0  tiempodeconstruido_Entre 0 y 5 años  \\\n48             0.0                   0.0                                  0.0   \n49             0.0                   0.0                                  0.0   \n50             0.0                   0.0                                  0.0   \n51             0.0                   0.0                                  0.0   \n52             0.0                   0.0                                  0.0   \n\n    tiempodeconstruido_Entre 5 y 10 años  valormt2_predicted  \n48                                   0.0        1.508003e+06  \n49                                   0.0        1.268791e+06  \n50                                   0.0        1.268791e+06  \n51                                   0.0        1.896642e+06  \n52                                   0.0        1.935967e+06  \n\n[5 rows x 173 columns]"
     },
     "execution_count": 255,
     "metadata": {},
     "output_type": "execute_result"
    }
   ],
   "source": [
    "df3.tail()"
   ]
  },
  {
   "cell_type": "code",
   "execution_count": 252,
   "metadata": {},
   "outputs": [
    {
     "name": "stdout",
     "output_type": "stream",
     "text": [
      "[1535636.5384615385, 2541621.08, 2541621.08, 1211501.5384615385, 1740211.5384615385, 1740211.5384615385, 1502353.7784615385, 1740211.5384615385, 1707902.5142857144, 1462822.5384615385, 1211501.5384615385, 1685082.6184615383, 1685082.6184615383, 1211501.5384615385, 1740211.5384615385, 1779645.2684615385, 1685082.6184615383, 1869542.6966666668, 1915044.01, 1917828.68, 2073531.9733333334, 1975258.683333333, 2011209.3633333333, 1917828.68, 1988662.0133333332, 1864703.68, 1917828.68, 2010675.3499999999, 1846995.3466666667, 2065104.2908695652, 1841935.822857143, 1951221.5371428572, 1802722.5814285714, 1805507.2514285715, 1841935.822857143, 1900911.744285714, 1996823.96, 1766875.05, 1766875.05, 1588750.0, 1698875.0499999998, 1664875.05, 1698875.0499999998, 1588750.0, 1698875.0499999998, 1698875.0499999998, 1698875.0499999998, 1493415.1984615384, 1508002.9884615385, 1268790.8684615386, 1268790.8684615386, 1896641.5884615383, 1935966.5384615385]\n"
     ]
    }
   ],
   "source": [
    "print(prices)"
   ]
  },
  {
   "cell_type": "code",
   "execution_count": 279,
   "metadata": {},
   "outputs": [],
   "source": [
    "c=df3\n",
    "c[\"id\"]=test[\"id\"]\n",
    "c = c.round(3)\n",
    "c[[\"id\",\"valormt2_predicted\"]].to_csv('results_test.csv', header=True, index=False)"
   ]
  },
  {
   "cell_type": "code",
   "execution_count": 278,
   "metadata": {},
   "outputs": [
    {
     "data": {
      "text/html": "<div>\n<style scoped>\n    .dataframe tbody tr th:only-of-type {\n        vertical-align: middle;\n    }\n\n    .dataframe tbody tr th {\n        vertical-align: top;\n    }\n\n    .dataframe thead th {\n        text-align: right;\n    }\n</style>\n<table border=\"1\" class=\"dataframe\">\n  <thead>\n    <tr style=\"text-align: right;\">\n      <th></th>\n      <th>area</th>\n      <th>ascensor</th>\n      <th>balcon</th>\n      <th>banos</th>\n      <th>banoservicio</th>\n      <th>conjuntocerrado</th>\n      <th>cuartoservicio</th>\n      <th>deposito</th>\n      <th>estudio</th>\n      <th>garajes</th>\n      <th>...</th>\n      <th>uso_COMERCIO</th>\n      <th>uso_INDUSTRIA</th>\n      <th>uso_OFICINAS</th>\n      <th>uso_UNIVERSIDADES Y COLEGIOS</th>\n      <th>vista_Interior</th>\n      <th>tiempodeconstruido_0</th>\n      <th>tiempodeconstruido_Entre 0 y 5 años</th>\n      <th>tiempodeconstruido_Entre 5 y 10 años</th>\n      <th>valormt2_predicted</th>\n      <th>id</th>\n    </tr>\n  </thead>\n  <tbody>\n    <tr>\n      <th>48</th>\n      <td>230.0</td>\n      <td>0</td>\n      <td>0.0</td>\n      <td>4.0</td>\n      <td>0</td>\n      <td>0</td>\n      <td>1.0</td>\n      <td>0.0</td>\n      <td>1.0</td>\n      <td>2.0</td>\n      <td>...</td>\n      <td>0.0</td>\n      <td>0.0</td>\n      <td>0.0</td>\n      <td>0.0</td>\n      <td>0.0</td>\n      <td>0.0</td>\n      <td>0.0</td>\n      <td>0.0</td>\n      <td>1508002.99</td>\n      <td>726088</td>\n    </tr>\n    <tr>\n      <th>49</th>\n      <td>230.0</td>\n      <td>0</td>\n      <td>0.0</td>\n      <td>4.0</td>\n      <td>0</td>\n      <td>0</td>\n      <td>1.0</td>\n      <td>0.0</td>\n      <td>1.0</td>\n      <td>2.0</td>\n      <td>...</td>\n      <td>0.0</td>\n      <td>0.0</td>\n      <td>0.0</td>\n      <td>0.0</td>\n      <td>0.0</td>\n      <td>0.0</td>\n      <td>0.0</td>\n      <td>0.0</td>\n      <td>1268790.87</td>\n      <td>752156</td>\n    </tr>\n    <tr>\n      <th>50</th>\n      <td>230.0</td>\n      <td>0</td>\n      <td>0.0</td>\n      <td>4.0</td>\n      <td>0</td>\n      <td>0</td>\n      <td>1.0</td>\n      <td>0.0</td>\n      <td>1.0</td>\n      <td>2.0</td>\n      <td>...</td>\n      <td>0.0</td>\n      <td>0.0</td>\n      <td>0.0</td>\n      <td>0.0</td>\n      <td>0.0</td>\n      <td>0.0</td>\n      <td>0.0</td>\n      <td>0.0</td>\n      <td>1268790.87</td>\n      <td>1055205</td>\n    </tr>\n    <tr>\n      <th>51</th>\n      <td>230.0</td>\n      <td>0</td>\n      <td>0.0</td>\n      <td>4.0</td>\n      <td>0</td>\n      <td>0</td>\n      <td>1.0</td>\n      <td>0.0</td>\n      <td>1.0</td>\n      <td>2.0</td>\n      <td>...</td>\n      <td>0.0</td>\n      <td>0.0</td>\n      <td>0.0</td>\n      <td>0.0</td>\n      <td>0.0</td>\n      <td>0.0</td>\n      <td>0.0</td>\n      <td>0.0</td>\n      <td>1896641.59</td>\n      <td>1289402</td>\n    </tr>\n    <tr>\n      <th>52</th>\n      <td>230.0</td>\n      <td>0</td>\n      <td>0.0</td>\n      <td>4.0</td>\n      <td>0</td>\n      <td>0</td>\n      <td>1.0</td>\n      <td>0.0</td>\n      <td>1.0</td>\n      <td>2.0</td>\n      <td>...</td>\n      <td>0.0</td>\n      <td>0.0</td>\n      <td>0.0</td>\n      <td>0.0</td>\n      <td>0.0</td>\n      <td>0.0</td>\n      <td>0.0</td>\n      <td>0.0</td>\n      <td>1935966.54</td>\n      <td>372796</td>\n    </tr>\n  </tbody>\n</table>\n<p>5 rows × 174 columns</p>\n</div>",
      "text/plain": "     area  ascensor  balcon  banos  banoservicio  conjuntocerrado  \\\n48  230.0         0     0.0    4.0             0                0   \n49  230.0         0     0.0    4.0             0                0   \n50  230.0         0     0.0    4.0             0                0   \n51  230.0         0     0.0    4.0             0                0   \n52  230.0         0     0.0    4.0             0                0   \n\n    cuartoservicio  deposito  estudio  garajes  ...  uso_COMERCIO  \\\n48             1.0       0.0      1.0      2.0  ...           0.0   \n49             1.0       0.0      1.0      2.0  ...           0.0   \n50             1.0       0.0      1.0      2.0  ...           0.0   \n51             1.0       0.0      1.0      2.0  ...           0.0   \n52             1.0       0.0      1.0      2.0  ...           0.0   \n\n    uso_INDUSTRIA  uso_OFICINAS  uso_UNIVERSIDADES Y COLEGIOS  vista_Interior  \\\n48            0.0           0.0                           0.0             0.0   \n49            0.0           0.0                           0.0             0.0   \n50            0.0           0.0                           0.0             0.0   \n51            0.0           0.0                           0.0             0.0   \n52            0.0           0.0                           0.0             0.0   \n\n    tiempodeconstruido_0  tiempodeconstruido_Entre 0 y 5 años  \\\n48                   0.0                                  0.0   \n49                   0.0                                  0.0   \n50                   0.0                                  0.0   \n51                   0.0                                  0.0   \n52                   0.0                                  0.0   \n\n    tiempodeconstruido_Entre 5 y 10 años  valormt2_predicted       id  \n48                                   0.0          1508002.99   726088  \n49                                   0.0          1268790.87   752156  \n50                                   0.0          1268790.87  1055205  \n51                                   0.0          1896641.59  1289402  \n52                                   0.0          1935966.54   372796  \n\n[5 rows x 174 columns]"
     },
     "execution_count": 278,
     "metadata": {},
     "output_type": "execute_result"
    }
   ],
   "source": [
    "c.tail()"
   ]
  },
  {
   "cell_type": "code",
   "execution_count": 280,
   "metadata": {},
   "outputs": [],
   "source": [
    "import joblib\n",
    "joblib.dump(kmeans, 'model-kmeans.joblib') \n",
    "eje = joblib.load('model-kmeans.joblib')"
   ]
  },
  {
   "cell_type": "code",
   "execution_count": null,
   "metadata": {},
   "outputs": [],
   "source": [
    "import numpy as np\n",
    "def mape(actual,pred):\n",
    "    return np.mean(np.abs((actual - pred) / actual)) * 100"
   ]
  }
 ],
 "metadata": {
  "kernelspec": {
   "display_name": "Python 3.8.3 64-bit ('base': conda)",
   "name": "python383jvsc74a57bd0dca0ade3e726a953b501b15e8e990130d2b7799f14cfd9f4271676035ebe5511"
  },
  "language_info": {
   "codemirror_mode": {
    "name": "ipython",
    "version": 3
   },
   "file_extension": ".py",
   "mimetype": "text/x-python",
   "name": "python",
   "nbconvert_exporter": "python",
   "pygments_lexer": "ipython3",
   "version": "3.8.3"
  },
  "orig_nbformat": 2
 },
 "nbformat": 4,
 "nbformat_minor": 2
}